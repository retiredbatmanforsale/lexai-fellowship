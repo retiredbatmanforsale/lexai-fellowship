{
 "cells": [
  {
   "cell_type": "code",
   "execution_count": 1,
   "id": "27399443-226e-4658-8b01-c50c92dbadd3",
   "metadata": {},
   "outputs": [
    {
     "name": "stdout",
     "output_type": "stream",
     "text": [
      "Defaulting to user installation because normal site-packages is not writeable\n",
      "Requirement already satisfied: torch in /Users/lexai/Library/Python/3.9/lib/python/site-packages (2.7.1)\n",
      "Requirement already satisfied: filelock in /Users/lexai/Library/Python/3.9/lib/python/site-packages (from torch) (3.18.0)\n",
      "Requirement already satisfied: typing-extensions>=4.10.0 in /Users/lexai/Library/Python/3.9/lib/python/site-packages (from torch) (4.13.2)\n",
      "Requirement already satisfied: sympy>=1.13.3 in /Users/lexai/Library/Python/3.9/lib/python/site-packages (from torch) (1.14.0)\n",
      "Requirement already satisfied: networkx in /Users/lexai/Library/Python/3.9/lib/python/site-packages (from torch) (3.2.1)\n",
      "Requirement already satisfied: jinja2 in /Users/lexai/Library/Python/3.9/lib/python/site-packages (from torch) (3.1.6)\n",
      "Requirement already satisfied: fsspec in /Users/lexai/Library/Python/3.9/lib/python/site-packages (from torch) (2025.5.1)\n",
      "Requirement already satisfied: mpmath<1.4,>=1.1.0 in /Users/lexai/Library/Python/3.9/lib/python/site-packages (from sympy>=1.13.3->torch) (1.3.0)\n",
      "Requirement already satisfied: MarkupSafe>=2.0 in /Users/lexai/Library/Python/3.9/lib/python/site-packages (from jinja2->torch) (3.0.2)\n",
      "\n",
      "\u001b[1m[\u001b[0m\u001b[34;49mnotice\u001b[0m\u001b[1;39;49m]\u001b[0m\u001b[39;49m A new release of pip is available: \u001b[0m\u001b[31;49m25.0.1\u001b[0m\u001b[39;49m -> \u001b[0m\u001b[32;49m25.1.1\u001b[0m\n",
      "\u001b[1m[\u001b[0m\u001b[34;49mnotice\u001b[0m\u001b[1;39;49m]\u001b[0m\u001b[39;49m To update, run: \u001b[0m\u001b[32;49m/Applications/Xcode.app/Contents/Developer/usr/bin/python3 -m pip install --upgrade pip\u001b[0m\n"
     ]
    }
   ],
   "source": [
    "!pip install torch"
   ]
  },
  {
   "cell_type": "code",
   "execution_count": 7,
   "id": "b3c7acaf-49ca-4c40-9570-d22178787dec",
   "metadata": {},
   "outputs": [],
   "source": [
    "import torch\n",
    "x = torch.tensor([1,2,3,4,5])\n",
    "y = torch.tensor([4,5,6,7, 8])"
   ]
  },
  {
   "cell_type": "code",
   "execution_count": 8,
   "id": "b1eec3a8-feaf-4657-b4b2-55264fafd389",
   "metadata": {},
   "outputs": [
    {
     "data": {
      "text/plain": [
       "tensor([ 4, 10, 18, 28, 40])"
      ]
     },
     "execution_count": 8,
     "metadata": {},
     "output_type": "execute_result"
    }
   ],
   "source": [
    "x * y"
   ]
  },
  {
   "cell_type": "code",
   "execution_count": 16,
   "id": "e5a797fa-f572-4de7-9b93-023b30eaeb56",
   "metadata": {},
   "outputs": [
    {
     "data": {
      "text/plain": [
       "tensor([[ 1,  2,  3,  4,  5,  6,  7,  8,  9, 10, 11, 12, 13, 14, 15, 16, 17, 18,\n",
       "         19, 20, 21, 22, 23, 24, 25],\n",
       "        [26, 27, 28, 29, 30, 31, 32, 33, 34, 35, 36, 37, 38, 39, 40, 41, 42, 43,\n",
       "         44, 45, 46, 47, 48, 49, 50]])"
      ]
     },
     "execution_count": 16,
     "metadata": {},
     "output_type": "execute_result"
    }
   ],
   "source": [
    "torch.arange(1,51).view(2,25)"
   ]
  },
  {
   "cell_type": "code",
   "execution_count": 17,
   "id": "0813d581-2d78-4de3-9eff-3a2244a37113",
   "metadata": {},
   "outputs": [
    {
     "data": {
      "text/plain": [
       "False"
      ]
     },
     "execution_count": 17,
     "metadata": {},
     "output_type": "execute_result"
    }
   ],
   "source": [
    "x.requires_grad # grad"
   ]
  },
  {
   "cell_type": "code",
   "execution_count": 19,
   "id": "a8564b75-4879-45b4-9f99-2928cd5ac6f1",
   "metadata": {},
   "outputs": [],
   "source": [
    "x = torch.tensor([2.0], requires_grad=True )"
   ]
  },
  {
   "cell_type": "code",
   "execution_count": 20,
   "id": "c74e0c83-7b29-41a5-aef7-8e8d1092b821",
   "metadata": {},
   "outputs": [
    {
     "data": {
      "text/plain": [
       "True"
      ]
     },
     "execution_count": 20,
     "metadata": {},
     "output_type": "execute_result"
    }
   ],
   "source": [
    "x.requires_grad"
   ]
  },
  {
   "cell_type": "code",
   "execution_count": 23,
   "id": "9a18f0b9-8098-4fbe-8d24-4ac34145bfdd",
   "metadata": {},
   "outputs": [],
   "source": [
    "y = x**2 + 3*x + 1"
   ]
  },
  {
   "cell_type": "code",
   "execution_count": 24,
   "id": "4267729c-f625-4cac-9ccc-86fefc30cb7f",
   "metadata": {},
   "outputs": [],
   "source": [
    "y.backward()"
   ]
  },
  {
   "cell_type": "code",
   "execution_count": 25,
   "id": "e2a36a19-2509-43eb-9549-b7a2d9851a77",
   "metadata": {},
   "outputs": [
    {
     "data": {
      "text/plain": [
       "tensor([7.])"
      ]
     },
     "execution_count": 25,
     "metadata": {},
     "output_type": "execute_result"
    }
   ],
   "source": [
    "x.grad"
   ]
  },
  {
   "cell_type": "code",
   "execution_count": 26,
   "id": "047d76ab-5dfc-4514-a0cf-b06b194d7cb6",
   "metadata": {},
   "outputs": [],
   "source": [
    "import torch.nn as nn\n"
   ]
  },
  {
   "cell_type": "code",
   "execution_count": 27,
   "id": "935c3a03-c99b-43a4-9f93-250d09f23936",
   "metadata": {},
   "outputs": [
    {
     "data": {
      "text/plain": [
       "<module 'torch.nn' from '/Users/lexai/Library/Python/3.9/lib/python/site-packages/torch/nn/__init__.py'>"
      ]
     },
     "execution_count": 27,
     "metadata": {},
     "output_type": "execute_result"
    }
   ],
   "source": [
    "nn"
   ]
  },
  {
   "cell_type": "code",
   "execution_count": 31,
   "id": "f732ce6f-f77d-4322-9b8f-70f0fb4478b6",
   "metadata": {},
   "outputs": [],
   "source": [
    "linear_layer = nn.Linear(in_features=3, out_features=2)"
   ]
  },
  {
   "cell_type": "code",
   "execution_count": null,
   "id": "bf798a3f-b649-44fe-8f53-5ee7372fcdc8",
   "metadata": {},
   "outputs": [],
   "source": []
  },
  {
   "cell_type": "code",
   "execution_count": 34,
   "id": "da968b84-8374-4936-8389-50939c03e89f",
   "metadata": {},
   "outputs": [],
   "source": [
    "input_tensor = torch.randn(5,3)"
   ]
  },
  {
   "cell_type": "code",
   "execution_count": 35,
   "id": "77e29f46-d8c0-463f-a1f7-a021a23725f9",
   "metadata": {},
   "outputs": [
    {
     "data": {
      "text/plain": [
       "tensor([[-0.6235, -1.0672,  1.0466],\n",
       "        [ 0.0021,  0.6256, -0.2005],\n",
       "        [-0.1815, -0.3361, -1.5565],\n",
       "        [-0.4225,  0.4530, -1.0513],\n",
       "        [-1.6682,  0.1906, -0.4184]])"
      ]
     },
     "execution_count": 35,
     "metadata": {},
     "output_type": "execute_result"
    }
   ],
   "source": [
    "input_tensor"
   ]
  },
  {
   "cell_type": "code",
   "execution_count": 36,
   "id": "756565b1-f553-4e83-a15b-6b1d1e5bbc7d",
   "metadata": {},
   "outputs": [
    {
     "data": {
      "text/plain": [
       "tensor([0.8808], grad_fn=<SigmoidBackward0>)"
      ]
     },
     "execution_count": 36,
     "metadata": {},
     "output_type": "execute_result"
    }
   ],
   "source": [
    "torch.sigmoid(x)"
   ]
  },
  {
   "cell_type": "code",
   "execution_count": 37,
   "id": "a4adf9e2-589a-49e0-8ce4-d422c7c62f01",
   "metadata": {},
   "outputs": [],
   "source": [
    "import torch.nn.functional as F"
   ]
  },
  {
   "cell_type": "code",
   "execution_count": 38,
   "id": "bbc85fdb-a6cc-4307-823b-dc10bc63a150",
   "metadata": {},
   "outputs": [
    {
     "data": {
      "text/plain": [
       "<module 'torch.nn.functional' from '/Users/lexai/Library/Python/3.9/lib/python/site-packages/torch/nn/functional.py'>"
      ]
     },
     "execution_count": 38,
     "metadata": {},
     "output_type": "execute_result"
    }
   ],
   "source": [
    "F"
   ]
  },
  {
   "cell_type": "code",
   "execution_count": 39,
   "id": "7d8ea177-50b1-40ac-a1e4-00ff93362f75",
   "metadata": {},
   "outputs": [
    {
     "data": {
      "text/plain": [
       "'2.7.1'"
      ]
     },
     "execution_count": 39,
     "metadata": {},
     "output_type": "execute_result"
    }
   ],
   "source": [
    "torch.__version__"
   ]
  },
  {
   "cell_type": "code",
   "execution_count": 42,
   "id": "90b386a1-09fd-4fda-8021-a9f4ee45e090",
   "metadata": {},
   "outputs": [
    {
     "data": {
      "text/plain": [
       "False"
      ]
     },
     "execution_count": 42,
     "metadata": {},
     "output_type": "execute_result"
    }
   ],
   "source": [
    "torch.cuda.is_available()"
   ]
  },
  {
   "cell_type": "code",
   "execution_count": null,
   "id": "a6284085-cbf9-48c1-a606-fbe47da74b8e",
   "metadata": {},
   "outputs": [],
   "source": []
  },
  {
   "cell_type": "code",
   "execution_count": null,
   "id": "8da3e2b6-faa1-412e-8c29-9bfd3d9d8bd2",
   "metadata": {},
   "outputs": [],
   "source": []
  },
  {
   "cell_type": "code",
   "execution_count": 48,
   "id": "b8cd118b-c07c-48fc-9904-94e5e920df35",
   "metadata": {},
   "outputs": [
    {
     "data": {
      "text/plain": [
       "Linear(in_features=3, out_features=2, bias=True)"
      ]
     },
     "execution_count": 48,
     "metadata": {},
     "output_type": "execute_result"
    }
   ],
   "source": [
    "linear_layer"
   ]
  },
  {
   "cell_type": "code",
   "execution_count": 49,
   "id": "a7e8b92c-0650-4bf7-8fde-9b7fdcaba96c",
   "metadata": {},
   "outputs": [],
   "source": [
    "output = linear_layer(input_tensor)"
   ]
  },
  {
   "cell_type": "code",
   "execution_count": 50,
   "id": "b3a5669f-3cc1-4952-8df2-0fce4afc0eae",
   "metadata": {},
   "outputs": [
    {
     "data": {
      "text/plain": [
       "tensor([[-0.8730, -0.3368],\n",
       "        [-0.1879,  0.1784],\n",
       "        [-1.2857, -0.4378],\n",
       "        [-0.7998, -0.0994],\n",
       "        [-1.2739, -0.2915]], grad_fn=<AddmmBackward0>)"
      ]
     },
     "execution_count": 50,
     "metadata": {},
     "output_type": "execute_result"
    }
   ],
   "source": [
    "output"
   ]
  },
  {
   "cell_type": "code",
   "execution_count": 53,
   "id": "ab28ed86-cbf0-42ae-9619-71e985d4a8ae",
   "metadata": {},
   "outputs": [
    {
     "data": {
      "text/plain": [
       "tensor([0.9640], grad_fn=<TanhBackward0>)"
      ]
     },
     "execution_count": 53,
     "metadata": {},
     "output_type": "execute_result"
    }
   ],
   "source": [
    "# relu, tanh, softmax, convolution, pooling, dropout layers. "
   ]
  },
  {
   "cell_type": "code",
   "execution_count": null,
   "id": "98fcabe1-3b63-43af-882c-98e6e6e934f1",
   "metadata": {},
   "outputs": [],
   "source": []
  },
  {
   "cell_type": "code",
   "execution_count": null,
   "id": "54bcc56e-1e3e-4a06-945a-99c6834faa68",
   "metadata": {},
   "outputs": [],
   "source": []
  },
  {
   "cell_type": "code",
   "execution_count": null,
   "id": "8f27b149-9d09-4247-8f73-7d1ede4a33ef",
   "metadata": {},
   "outputs": [],
   "source": []
  },
  {
   "cell_type": "code",
   "execution_count": 66,
   "id": "fad6c5f5-2f24-4362-bd1f-d7b019719565",
   "metadata": {},
   "outputs": [
    {
     "data": {
      "text/plain": [
       "Sequential(\n",
       "  (0): Linear(in_features=784, out_features=128, bias=True)\n",
       "  (1): ReLU()\n",
       "  (2): Dropout(p=0.1, inplace=False)\n",
       "  (3): Linear(in_features=128, out_features=128, bias=True)\n",
       "  (4): Softmax(dim=None)\n",
       "  (5): Linear(in_features=128, out_features=10, bias=True)\n",
       "  (6): Softmax(dim=1)\n",
       ")"
      ]
     },
     "execution_count": 66,
     "metadata": {},
     "output_type": "execute_result"
    }
   ],
   "source": [
    "nn.Sequential(nn.Linear(784,128), nn.ReLU(), nn.Dropout(0.1), nn.Linear(128, 128), nn.Softmax(), nn.Linear(128, 10), nn.Softmax(dim=1))"
   ]
  },
  {
   "cell_type": "code",
   "execution_count": null,
   "id": "6d45d36b-e429-462d-9ace-7f203f1bcec6",
   "metadata": {},
   "outputs": [],
   "source": []
  },
  {
   "cell_type": "code",
   "execution_count": null,
   "id": "20110ec4-135e-44be-9aa0-7705e40df76e",
   "metadata": {},
   "outputs": [],
   "source": []
  }
 ],
 "metadata": {
  "kernelspec": {
   "display_name": "Python 3 (ipykernel)",
   "language": "python",
   "name": "python3"
  },
  "language_info": {
   "codemirror_mode": {
    "name": "ipython",
    "version": 3
   },
   "file_extension": ".py",
   "mimetype": "text/x-python",
   "name": "python",
   "nbconvert_exporter": "python",
   "pygments_lexer": "ipython3",
   "version": "3.9.6"
  }
 },
 "nbformat": 4,
 "nbformat_minor": 5
}
