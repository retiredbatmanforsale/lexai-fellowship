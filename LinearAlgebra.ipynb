{
 "cells": [
  {
   "cell_type": "markdown",
   "id": "09c8ad78-f30f-4dca-b39b-c72c5fc95cd1",
   "metadata": {},
   "source": [
    "# Linear Algebra / Matrix Algebra and Numpy \n"
   ]
  },
  {
   "cell_type": "markdown",
   "id": "5bfd939e-edc4-4bd7-b4ec-98cc6408b271",
   "metadata": {},
   "source": [
    "#### Why do we need **matrix algebra** and not just **regular algebra**?\n",
    "\n",
    "#### 1. **Compact Representation of Multiple Equations**\n",
    "\n",
    "In ML, you often deal with **many variables and many data points**. For example:\n",
    "\n",
    "* You may have a dataset with 10,000 rows and 100 features.\n",
    "* Writing 10,000 equations in regular algebra would be insane.\n",
    "\n",
    " **Matrix algebra compresses** all these equations into a single expression like:\n",
    "\n",
    "$$\n",
    "\\mathbf{y} = \\mathbf{Xw}\n",
    "$$\n",
    "\n",
    "Where:\n",
    "\n",
    "* $\\mathbf{X}$ is a **matrix** of data,\n",
    "* $\\mathbf{w}$ is a **vector** of weights,\n",
    "* $\\mathbf{y}$ is a **vector** of outputs.\n",
    "\n",
    "#### 2. **Vectorization = Speed**\n",
    "\n",
    "Normal algebra operates on scalars. But machine learning runs on large datasets. So you want to:\n",
    "\n",
    "* Apply the same operation across many values **at once**.\n",
    "* Matrices and vectors allow for **batch operations** using optimized libraries (like NumPy, TensorFlow, PyTorch, etc.).\n",
    "\n",
    "Matrix algebra helps you write **fast, parallel computations** that are hardware-accelerated.\n",
    "\n",
    "\n",
    "#### 3. **Elegant Math for Linear Systems**\n",
    "\n",
    "Machine learning algorithms (like linear regression, PCA, neural networks, etc.) often boil down to solving **systems of equations** or **optimization problems**. These naturally form matrix equations.\n",
    "\n",
    "Example: Linear regression closed-form solution: (don't get intimidated, it is a simple equation once we study it in depth)\n",
    "\n",
    "$$\n",
    "\\mathbf{w} = (\\mathbf{X}^T \\mathbf{X})^{-1} \\mathbf{X}^T \\mathbf{y}\n",
    "$$\n",
    "\n",
    "This can't be easily or clearly expressed without matrix notation.\n",
    "\n",
    "\n",
    "#### 4. **Geometric Interpretability**\n",
    "\n",
    "Matrix operations like dot products, projections, and rotations have **geometric interpretations** that are powerful in understanding models:\n",
    "\n",
    "* Dot product = projection = similarity.\n",
    "* Matrix multiplication = linear transformation (rotate, scale, shear).\n",
    "* Eigenvectors = directions of variance (used in PCA).\n",
    "\n",
    "These interpretations become clearer **only through matrix math**.\n",
    "\n",
    "\n",
    "#### 5. **Neural Networks & Deep Learning**\n",
    "\n",
    "In deep learning:\n",
    "\n",
    "* Each layer is a matrix transformation followed by a non-linearity.\n",
    "* Forward and backward passes rely on **matrix derivatives** (Jacobian, gradients, etc.).\n",
    "\n",
    "Without matrix algebra, expressing and computing this becomes nearly impossible.\n",
    "\n",
    "\n",
    "| Benefit                    | Matrix Algebra Provides           |\n",
    "| -------------------------- | --------------------------------- |\n",
    "| Handles multiple variables | **Compact notation**                |\n",
    "| Speed of computation       | **Vectorized operations**           |\n",
    "| Solving ML problems        | **Linear system solvers**           |\n",
    "| Geometric insights         | **Dot products, projections, etc.** |\n",
    "| Neural nets & gradients    | **Chain rule with matrices**        |\n"
   ]
  },
  {
   "cell_type": "code",
   "execution_count": 22,
   "id": "88bf4a8a-a7ba-48e4-966c-71e618c0d169",
   "metadata": {},
   "outputs": [],
   "source": [
    "import numpy as np\n",
    "import matplotlib.pyplot as plt"
   ]
  },
  {
   "cell_type": "markdown",
   "id": "da33f3ab-8a0f-432f-8e5e-013900e8c6d4",
   "metadata": {},
   "source": [
    "#### Matrix Creation\n",
    "Create a 2x3 matrix"
   ]
  },
  {
   "cell_type": "code",
   "execution_count": 23,
   "id": "dceb4988-71a9-42ba-aaad-26cb4892dc0b",
   "metadata": {},
   "outputs": [
    {
     "name": "stdout",
     "output_type": "stream",
     "text": [
      "Matrix A:\n",
      " [[1 2 3]\n",
      " [4 5 6]]\n"
     ]
    },
    {
     "data": {
      "text/plain": [
       "numpy.ndarray"
      ]
     },
     "execution_count": 23,
     "metadata": {},
     "output_type": "execute_result"
    }
   ],
   "source": [
    "A = np.array([[1, 2, 3],\n",
    "              [4, 5, 6]])\n",
    "print(\"Matrix A:\\n\", A)\n",
    "type(A)"
   ]
  },
  {
   "cell_type": "code",
   "execution_count": 24,
   "id": "a4644c64-076f-44c2-9d36-1f5dd3940423",
   "metadata": {},
   "outputs": [
    {
     "data": {
      "text/plain": [
       "list"
      ]
     },
     "execution_count": 24,
     "metadata": {},
     "output_type": "execute_result"
    }
   ],
   "source": [
    "type([1,2,3])"
   ]
  },
  {
   "cell_type": "markdown",
   "id": "3195e56c-e1c0-47c4-b85d-fa72426eef19",
   "metadata": {},
   "source": [
    "#### **Zero Matrix $0$**\n",
    "\n",
    "* All elements are zero.\n",
    "* $A + 0 = A$\n",
    "* $A \\cdot 0 = 0$\n"
   ]
  },
  {
   "cell_type": "code",
   "execution_count": 25,
   "id": "6fee1e5f-9d22-441e-97c1-2b940468924e",
   "metadata": {},
   "outputs": [
    {
     "data": {
      "text/plain": [
       "array([[0., 0., 0., 0., 0., 0., 0., 0., 0., 0.],\n",
       "       [0., 0., 0., 0., 0., 0., 0., 0., 0., 0.],\n",
       "       [0., 0., 0., 0., 0., 0., 0., 0., 0., 0.],\n",
       "       [0., 0., 0., 0., 0., 0., 0., 0., 0., 0.],\n",
       "       [0., 0., 0., 0., 0., 0., 0., 0., 0., 0.],\n",
       "       [0., 0., 0., 0., 0., 0., 0., 0., 0., 0.],\n",
       "       [0., 0., 0., 0., 0., 0., 0., 0., 0., 0.],\n",
       "       [0., 0., 0., 0., 0., 0., 0., 0., 0., 0.],\n",
       "       [0., 0., 0., 0., 0., 0., 0., 0., 0., 0.],\n",
       "       [0., 0., 0., 0., 0., 0., 0., 0., 0., 0.]])"
      ]
     },
     "execution_count": 25,
     "metadata": {},
     "output_type": "execute_result"
    }
   ],
   "source": [
    "np.zeros((10,10)) "
   ]
  },
  {
   "cell_type": "markdown",
   "id": "8a7d3093-f0d2-4969-8d05-d366ab21789f",
   "metadata": {},
   "source": [
    "#### Matrix Shape and Reshaping\n",
    "\n",
    "Check shape"
   ]
  },
  {
   "cell_type": "code",
   "execution_count": 26,
   "id": "40b80433-7f65-4c78-b39b-7532d59b9a4c",
   "metadata": {},
   "outputs": [
    {
     "name": "stdout",
     "output_type": "stream",
     "text": [
      "Shape of A: (2, 3)\n",
      "Reshaped A:\n",
      " [[1 2]\n",
      " [3 4]\n",
      " [5 6]]\n"
     ]
    }
   ],
   "source": [
    "print(\"Shape of A:\", A.shape)\n",
    "\n",
    "# Reshape A to a 3x2 matrix\n",
    "A_reshaped = A.reshape(3, 2)\n",
    "print(\"Reshaped A:\\n\", A_reshaped)"
   ]
  },
  {
   "cell_type": "markdown",
   "id": "daf2400a-8057-4ccc-b588-12e1c205bc94",
   "metadata": {},
   "source": [
    "#### **Matrix Addition**\n",
    "You can add two matrices **only if they have the same dimensions**.\n",
    "\n",
    "$$\n",
    "A + B = C \\quad \\text{(if } A, B \\in \\mathbb{R}^{m \\times n} \\text{)}\n",
    "$$\n",
    "\n",
    "Each element is added component-wise:\n",
    "\n",
    "$$\n",
    "C_{ij} = A_{ij} + B_{ij}\n",
    "$$\n",
    "\n",
    "#### Properties:\n",
    "\n",
    "| Property              | Meaning                                                   |\n",
    "| --------------------- | --------------------------------------------------------- |\n",
    "| **Commutative**       | $A + B = B + A$                                           |\n",
    "| **Associative**       | $(A + B) + C = A + (B + C)$                               |\n",
    "| **Additive Identity** | There exists a **zero matrix** $0$ such that $A + 0 = A$  |\n",
    "| **Additive Inverse**  | For every $A$, there exists $-A$ such that $A + (-A) = 0$ |"
   ]
  },
  {
   "cell_type": "code",
   "execution_count": 6,
   "id": "1810b430-d355-465a-abd7-65833f4fe94b",
   "metadata": {},
   "outputs": [
    {
     "name": "stdout",
     "output_type": "stream",
     "text": [
      "A + B =\n",
      " [[ 8 10 12]\n",
      " [14 16 18]]\n",
      "A - B =\n",
      " [[-6 -6 -6]\n",
      " [-6 -6 -6]]\n"
     ]
    }
   ],
   "source": [
    "A = np.array([[1, 2, 3],\n",
    "              [4, 5, 6]])\n",
    "\n",
    "B = np.array([[7, 8, 9],\n",
    "              [10, 11, 12]])\n",
    "\n",
    "# Element-wise addition\n",
    "C = A + B\n",
    "print(\"A + B =\\n\", C)\n",
    "\n",
    "# Element-wise subtraction\n",
    "D = A - B\n",
    "print(\"A - B =\\n\", D)"
   ]
  },
  {
   "cell_type": "markdown",
   "id": "4d499df1-11c4-4ec0-9998-c6632f828bdd",
   "metadata": {},
   "source": [
    "#### Scalar Multiplication\n",
    "\n",
    " **Scalar Multiplication**\n",
    "\n",
    "Multiplying a matrix by a scalar means multiplying **each element** by the scalar.\n",
    "\n",
    "$$\n",
    "\\alpha A = B \\quad \\text{(where } B_{ij} = \\alpha \\cdot A_{ij} \\text{)}\n",
    "$$\n",
    "\n",
    "#### Properties:\n",
    "\n",
    "| Property                              | Meaning                                  |\n",
    "| ------------------------------------- | ---------------------------------------- |\n",
    "| **Distributive over addition**        | $\\alpha(A + B) = \\alpha A + \\alpha B$    |\n",
    "| **Distributive over scalar addition** | $(\\alpha + \\beta)A = \\alpha A + \\beta A$ |\n",
    "| **Associative with scalars**          | $(\\alpha \\beta) A = \\alpha (\\beta A)$    |\n",
    "| **Multiplicative Identity**           | $1 \\cdot A = A$                          |"
   ]
  },
  {
   "cell_type": "code",
   "execution_count": 7,
   "id": "0eb671b1-ac6b-417e-b213-8c3f94678770",
   "metadata": {},
   "outputs": [
    {
     "name": "stdout",
     "output_type": "stream",
     "text": [
      "2 * A =\n",
      " [[ 2  4  6]\n",
      " [ 8 10 12]]\n"
     ]
    }
   ],
   "source": [
    "E = 2 * A\n",
    "print(\"2 * A =\\n\", E)"
   ]
  },
  {
   "cell_type": "markdown",
   "id": "3c63e8a0-fc7b-4dcf-8fd4-3c3f6d79b800",
   "metadata": {},
   "source": [
    "#### **Matrix Multiplication**\n",
    "\n",
    "You can multiply matrices if the **number of columns in the first** equals the **number of rows in the second**.\n",
    "\n",
    "If $A \\in \\mathbb{R}^{m \\times n}$, $B \\in \\mathbb{R}^{n \\times p}$, then:\n",
    "\n",
    "$$\n",
    "C = AB \\quad \\text{where } C \\in \\mathbb{R}^{m \\times p}\n",
    "$$\n",
    "\n",
    "$$\n",
    "C_{ij} = \\sum_{k=1}^{n} A_{ik} \\cdot B_{kj}\n",
    "$$\n",
    "\n",
    "#### Properties:\n",
    "\n",
    "| Property                    | Meaning                                                     |\n",
    "| --------------------------- | ----------------------------------------------------------- |\n",
    "| **Associative**             | $(AB)C = A(BC)$                                             |\n",
    "| **Distributive**            | $A(B + C) = AB + AC$                                        |\n",
    "| **Not Commutative**         | $AB \\ne BA$ in general                                    |\n",
    "| **Multiplicative Identity** | $AI = IA = A$, where $I$ is the **identity matrix**         |\n",
    "| **Zero Product Possible**   | It’s possible that $AB = 0$ even if $A \\ne 0$ and $B \\ne 0$ |\n"
   ]
  },
  {
   "cell_type": "code",
   "execution_count": 8,
   "id": "26db3ef6-1b37-4c5c-b31d-f8b8fcd9426a",
   "metadata": {},
   "outputs": [
    {
     "data": {
      "text/plain": [
       "np.int64(32)"
      ]
     },
     "execution_count": 8,
     "metadata": {},
     "output_type": "execute_result"
    }
   ],
   "source": [
    "a_ = np.array([1, 2, 3])\n",
    "b_ = np.array([4, 5, 6])\n",
    "np.dot(a_, b_)  # 1*4 + 2*5 + 3*6 = 32\n"
   ]
  },
  {
   "cell_type": "code",
   "execution_count": 9,
   "id": "695c3df0-528b-452a-9e12-3f7098407379",
   "metadata": {},
   "outputs": [
    {
     "name": "stdout",
     "output_type": "stream",
     "text": [
      "(2, 3) (3, 2)\n",
      "A X F =\n",
      " [[22 28]\n",
      " [49 64]]\n"
     ]
    }
   ],
   "source": [
    "A = np.array([[1, 2, 3],\n",
    "              [4, 5, 6]])\n",
    "\n",
    "F = np.array([[1, 2],\n",
    "              [3, 4],\n",
    "              [5, 6],\n",
    "             ])\n",
    "\n",
    "G = np.matmul(A, F)\n",
    "print(A.shape, F.shape)\n",
    "print(\"A X F =\\n\", G)"
   ]
  },
  {
   "cell_type": "markdown",
   "id": "936dc341-8720-48f1-ab9b-cafca42920e1",
   "metadata": {},
   "source": [
    "#### Element-wise Multiplication"
   ]
  },
  {
   "cell_type": "code",
   "execution_count": 10,
   "id": "ac847516-645b-47f5-b5af-141647738159",
   "metadata": {},
   "outputs": [
    {
     "name": "stdout",
     "output_type": "stream",
     "text": [
      "Element-wise multiplication A * B =\n",
      " [[ 7 16 27]\n",
      " [40 55 72]]\n"
     ]
    }
   ],
   "source": [
    "H = A * B\n",
    "print(\"Element-wise multiplication A * B =\\n\", H)"
   ]
  },
  {
   "cell_type": "markdown",
   "id": "6ed62cce-2317-4eb7-8611-0acf08c19aa0",
   "metadata": {},
   "source": [
    "#### Transpose of a Matrix\n",
    "\n",
    "Flipping rows into columns.\n",
    "\n",
    "$$\n",
    "(A^T)_{ij} = A_{ji}\n",
    "$$\n",
    "\n",
    "#### Properties:\n",
    "\n",
    "| Property                    | Meaning                             |\n",
    "| --------------------------- | ----------------------------------- |\n",
    "| $(A^T)^T = A$               | Transposing twice gets the original |\n",
    "| $(A + B)^T = A^T + B^T$     | Transpose is linear                 |\n",
    "| $(\\alpha A)^T = \\alpha A^T$ | Scalar pull-out                     |\n",
    "| $(AB)^T = B^T A^T$          | Note the **order reversal**         |"
   ]
  },
  {
   "cell_type": "code",
   "execution_count": 11,
   "id": "76d159c1-ab2c-49de-b527-b1c2f051d46d",
   "metadata": {},
   "outputs": [
    {
     "name": "stdout",
     "output_type": "stream",
     "text": [
      "[[1 2 3]\n",
      " [4 5 6]]\n",
      "---\n",
      "[[1 4]\n",
      " [2 5]\n",
      " [3 6]]\n",
      "Transpose of A:\n",
      " [[1 4]\n",
      " [2 5]\n",
      " [3 6]]\n"
     ]
    }
   ],
   "source": [
    "print(A)\n",
    "print(\"---\")\n",
    "print(A.T)\n",
    "A_T = A.T\n",
    "print(\"Transpose of A:\\n\", A_T)"
   ]
  },
  {
   "cell_type": "markdown",
   "id": "59e1e04b-04a9-4f82-9740-e421518f4414",
   "metadata": {},
   "source": [
    "\n",
    "#### **Identity Matrix $I$**\n",
    "\n",
    "The identity matrix acts like 1 does in arithmetic.\n",
    "\n",
    "* $I \\in \\mathbb{R}^{n \\times n}$\n",
    "* Diagonal entries = 1, rest = 0\n",
    "\n",
    "$$\n",
    "AI = IA = A\n",
    "$$\n",
    "\n",
    "#### Example: 3×3 Identity Matrix\n",
    "\n",
    "$$\n",
    "I_3 = \\begin{bmatrix}\n",
    "1 & 0 & 0 \\\\\n",
    "0 & 1 & 0 \\\\\n",
    "0 & 0 & 1\n",
    "\\end{bmatrix}\n",
    "$$\n"
   ]
  },
  {
   "cell_type": "code",
   "execution_count": 12,
   "id": "f8f5f0db-254a-4c81-87c7-8d73f4c97439",
   "metadata": {},
   "outputs": [
    {
     "name": "stdout",
     "output_type": "stream",
     "text": [
      "[[1. 0. 0. 0. 0. 0. 0. 0.]\n",
      " [0. 1. 0. 0. 0. 0. 0. 0.]\n",
      " [0. 0. 1. 0. 0. 0. 0. 0.]\n",
      " [0. 0. 0. 1. 0. 0. 0. 0.]\n",
      " [0. 0. 0. 0. 1. 0. 0. 0.]\n",
      " [0. 0. 0. 0. 0. 1. 0. 0.]\n",
      " [0. 0. 0. 0. 0. 0. 1. 0.]\n",
      " [0. 0. 0. 0. 0. 0. 0. 1.]]\n"
     ]
    }
   ],
   "source": [
    "id_ = np.eye(8,8)\n",
    "print(id_)"
   ]
  },
  {
   "cell_type": "markdown",
   "id": "cc632eb0-ae25-4c13-a6ea-01adfcdbe1ff",
   "metadata": {},
   "source": [
    "### Inverse of a Matrix\n",
    "#### **Inverse (only for square matrices)**\n",
    "\n",
    "If a matrix $A \\in \\mathbb{R}^{n \\times n}$ is invertible, there exists $A^{-1}$ such that:\n",
    "\n",
    "$$\n",
    "AA^{-1} = A^{-1}A = I\n",
    "$$\n",
    "\n",
    "Not all matrices are invertible.\n"
   ]
  },
  {
   "cell_type": "code",
   "execution_count": 13,
   "id": "a0674f7b-a24a-447e-87e7-eab27655ef68",
   "metadata": {},
   "outputs": [
    {
     "name": "stdout",
     "output_type": "stream",
     "text": [
      "M:  [[4 7]\n",
      " [2 6]]\n",
      "Inverse of M:\n",
      " [[ 0.6 -0.7]\n",
      " [-0.2  0.4]]\n"
     ]
    },
    {
     "data": {
      "text/plain": [
       "array([[False, False],\n",
       "       [False,  True]])"
      ]
     },
     "execution_count": 13,
     "metadata": {},
     "output_type": "execute_result"
    }
   ],
   "source": [
    "M = np.array([[4, 7],\n",
    "              [2, 6]])\n",
    "\n",
    "\n",
    "M_inv = np.linalg.inv(M)\n",
    "print(\"M: \", M)\n",
    "print(\"Inverse of M:\\n\", M_inv)\n",
    "\n",
    "# Verify: M * M_inv should be identity\n",
    "np.matmul(M, M_inv) == np.eye(2,2)"
   ]
  },
  {
   "cell_type": "markdown",
   "id": "48204fe4-630b-4b2b-95b9-9c7f352787ee",
   "metadata": {},
   "source": [
    "#### Identity Matrix"
   ]
  },
  {
   "cell_type": "code",
   "execution_count": 14,
   "id": "c250374e-a012-4fdd-94c1-4998809a7ee1",
   "metadata": {},
   "outputs": [
    {
     "name": "stdout",
     "output_type": "stream",
     "text": [
      "Identity matrix:\n",
      " [[1. 0. 0.]\n",
      " [0. 1. 0.]\n",
      " [0. 0. 1.]]\n"
     ]
    }
   ],
   "source": [
    "# Create 3x3 identity matrix\n",
    "I = np.eye(3)\n",
    "print(\"Identity matrix:\\n\", I)\n"
   ]
  },
  {
   "cell_type": "markdown",
   "id": "092fc3fb-733c-4c5c-a9ce-76c52dd988a6",
   "metadata": {},
   "source": [
    "####  What is **Adjoint or Adjugate** of a Matrix?\n",
    "\n",
    "The **adjoint (or adjugate)** of a square matrix $A$ is the **transpose of its cofactor matrix**.\n",
    "\n",
    "$$\n",
    "\\text{adj}(A) = \\text{Cofactor}(A)^T\n",
    "$$\n",
    "\n",
    "\n",
    "####  Step 1: **Minor of an element $A_{ij}$**\n",
    "\n",
    "* The **minor** of an element $A_{ij}$ is the **determinant** of the submatrix you get by **removing row $i$** and **column $j$**.\n",
    "\n",
    " \n",
    "\n",
    "####  Step 2: **Cofactor of an element $A_{ij}$**\n",
    "\n",
    "* The **cofactor** is:\n",
    "\n",
    "$$\n",
    "\\text{Cofactor}_{ij} = (-1)^{i+j} \\cdot \\text{Minor}_{ij}\n",
    "$$\n",
    "\n",
    "That sign alternates like a checkerboard:\n",
    "\n",
    "$$\n",
    "\\begin{bmatrix}\n",
    "+ & - & + \\\\\n",
    "- & + & - \\\\\n",
    "+ & - & +\n",
    "\\end{bmatrix}\n",
    "$$\n",
    "\n",
    " \n",
    "\n",
    "####  Step 3: **Build the Cofactor Matrix**\n",
    "\n",
    "Construct a matrix where each element is replaced by its **cofactor**.\n",
    " \n",
    "\n",
    "#### Step 4: **Transpose the Cofactor Matrix**\n",
    "\n",
    "This gives you the **adjugate matrix**.\n",
    "\n",
    " \n",
    "\n",
    "####  Example: Adjugate of a 2×2 Matrix\n",
    "\n",
    "Let:\n",
    "\n",
    "$$\n",
    "A = \\begin{bmatrix}\n",
    "a & b \\\\\n",
    "c & d\n",
    "\\end{bmatrix}\n",
    "$$\n",
    "\n",
    "Then the **adjugate of A** is:\n",
    "\n",
    "$$\n",
    "\\text{adj}(A) = \\begin{bmatrix}\n",
    "d & -b \\\\\n",
    "-c & a\n",
    "\\end{bmatrix}\n",
    "$$\n",
    "\n",
    "This is exactly what we use in the inverse formula:\n",
    "\n",
    "$$\n",
    "A^{-1} = \\frac{1}{ad - bc} \\cdot \\text{adj}(A)\n",
    "$$\n"
   ]
  },
  {
   "cell_type": "code",
   "execution_count": 15,
   "id": "97e76f8c-15c5-4c02-a2d3-050ff10373e9",
   "metadata": {},
   "outputs": [
    {
     "name": "stdout",
     "output_type": "stream",
     "text": [
      "Determinant of M: 10.000000000000002\n"
     ]
    }
   ],
   "source": [
    "# Determinant of M\n",
    "det_M = np.linalg.det(M)\n",
    "print(\"Determinant of M:\", det_M)\n"
   ]
  },
  {
   "cell_type": "markdown",
   "id": "45edcd8b-84f5-4128-ab97-dd7537e8d667",
   "metadata": {},
   "source": [
    "#### Matrix R:\n",
    "\n",
    "Let’s take a simple matrix:\n",
    "\n",
    "$$\n",
    "R = \\begin{bmatrix}\n",
    "1 & 2 & 3 \\\\\n",
    "0 & 1 & 4 \\\\\n",
    "5 & 6 & 0\n",
    "\\end{bmatrix}\n",
    "$$\n",
    "\n",
    "\n",
    "#### Step 1: Compute **Determinant of R** (denoted as |R|)\n",
    "\n",
    "Use cofactor expansion along row 1:\n",
    "\n",
    "$$\n",
    "|R| = 1 \\cdot \\begin{vmatrix} 1 & 4 \\\\ 6 & 0 \\end{vmatrix}\n",
    "     - 2 \\cdot \\begin{vmatrix} 0 & 4 \\\\ 5 & 0 \\end{vmatrix}\n",
    "     + 3 \\cdot \\begin{vmatrix} 0 & 1 \\\\ 5 & 6 \\end{vmatrix}\n",
    "$$\n",
    "\n",
    "Compute each 2×2 determinant:\n",
    "\n",
    "* $\\begin{vmatrix} 1 & 4 \\\\ 6 & 0 \\end{vmatrix} = (1)(0) - (4)(6) = -24$\n",
    "* $\\begin{vmatrix} 0 & 4 \\\\ 5 & 0 \\end{vmatrix} = (0)(0) - (4)(5) = -20$\n",
    "* $\\begin{vmatrix} 0 & 1 \\\\ 5 & 6 \\end{vmatrix} = (0)(6) - (1)(5) = -5$\n",
    "\n",
    "Now plug back:\n",
    "\n",
    "$$\n",
    "|R| = 1(-24) - 2(-20) + 3(-5) = -24 + 40 - 15 = \\boxed{1}\n",
    "$$\n",
    "\n",
    "So the determinant is 1, which means **R is invertible**, and:\n",
    "\n",
    "$$\n",
    "R^{-1} = \\text{adj}(R)\n",
    "$$\n",
    "\n",
    "(Since $\\frac{1}{|R|} = 1$)\n",
    "\n",
    "\n",
    "#### Step 2: Compute the **Cofactor Matrix**\n",
    "\n",
    "We now compute each cofactor $C_{ij} = (-1)^{i+j} \\cdot M_{ij}$, where $M_{ij}$ is the minor of element $R_{ij}$.\n",
    "\n",
    "##### First row cofactors:\n",
    "\n",
    "* $C_{11} = (+1) \\cdot \\begin{vmatrix} 1 & 4 \\\\ 6 & 0 \\end{vmatrix} = -24$\n",
    "* $C_{12} = (-1) \\cdot \\begin{vmatrix} 0 & 4 \\\\ 5 & 0 \\end{vmatrix} = +20$\n",
    "* $C_{13} = (+1) \\cdot \\begin{vmatrix} 0 & 1 \\\\ 5 & 6 \\end{vmatrix} = -5$\n",
    "\n",
    "##### Second row cofactors:\n",
    "\n",
    "* $C_{21} = (-1) \\cdot \\begin{vmatrix} 2 & 3 \\\\ 6 & 0 \\end{vmatrix} = -(-18) = 18$\n",
    "* $C_{22} = (+1) \\cdot \\begin{vmatrix} 1 & 3 \\\\ 5 & 0 \\end{vmatrix} = -15$\n",
    "* $C_{23} = (-1) \\cdot \\begin{vmatrix} 1 & 2 \\\\ 5 & 6 \\end{vmatrix} = -(-4) = 4$\n",
    "\n",
    "##### Third row cofactors:\n",
    "\n",
    "* $C_{31} = (+1) \\cdot \\begin{vmatrix} 2 & 3 \\\\ 1 & 4 \\end{vmatrix} = (2)(4)-(3)(1) = 8-3 = 5$\n",
    "* $C_{32} = (-1) \\cdot \\begin{vmatrix} 1 & 3 \\\\ 0 & 4 \\end{vmatrix} = -(4) = -4$\n",
    "* $C_{33} = (+1) \\cdot \\begin{vmatrix} 1 & 2 \\\\ 0 & 1 \\end{vmatrix} = (1)(1)-(2)(0) = 1$\n",
    "\n",
    " \n",
    "####   Step 3: Build Cofactor Matrix\n",
    "\n",
    "$$\n",
    "\\text{Cofactor}(R) = \\begin{bmatrix}\n",
    "-24 & 20 & -5 \\\\\n",
    "18 & -15 & 4 \\\\\n",
    "5 & -4 & 1\n",
    "\\end{bmatrix}\n",
    "$$\n",
    "\n",
    "\n",
    "####  Step 4: Compute **Adjugate** (Transpose of cofactor matrix)\n",
    "\n",
    "$$\n",
    "\\text{adj}(R) = \\text{Cofactor}(R)^T = \\begin{bmatrix}\n",
    "-24 & 18 & 5 \\\\\n",
    "20 & -15 & -4 \\\\\n",
    "-5 & 4 & 1\n",
    "\\end{bmatrix}\n",
    "$$\n",
    "\n",
    "\n",
    "\n",
    "#### Step 5: Compute **Inverse**\n",
    "\n",
    "$$\n",
    "R^{-1} = \\frac{1}{|R|} \\cdot \\text{adj}(R) = 1 \\cdot \\text{adj}(R)\n",
    "$$\n",
    "\n",
    "So finally:\n",
    "\n",
    "$$\n",
    "R^{-1} = \\begin{bmatrix}\n",
    "-24 & 18 & 5 \\\\\n",
    "20 & -15 & -4 \\\\\n",
    "-5 & 4 & 1\n",
    "\\end{bmatrix}\n",
    "$$\n"
   ]
  },
  {
   "cell_type": "markdown",
   "id": "7d4d581d-43a7-4c35-b02a-6fb7ce54fe3e",
   "metadata": {},
   "source": [
    "---\n",
    "#### Z-Score Normalization\n",
    "\n",
    "It transforms your data so that:\n",
    "\n",
    "* **Mean = 0**\n",
    "* **Standard Deviation = 1**\n",
    "\n",
    "\n",
    "#### Formula: Z-Score Standardization\n",
    "\n",
    "For a data point $x$, the **standardized value** (also called the Z-score) is:\n",
    "\n",
    "$$\n",
    "z = \\frac{x - \\mu}{\\sigma}\n",
    "$$\n",
    "\n",
    "Where:\n",
    "\n",
    "* $x$ is an original data point\n",
    "* $\\mu$ is the **mean** of the data\n",
    "* $\\sigma$ is the **standard deviation** of the data\n",
    "* $z$ is the **standardized value**\n",
    "\n",
    "\n",
    "#####   Example\n",
    "\n",
    "Suppose you have a dataset:\n",
    "\n",
    "$$\n",
    "X = [10, 12, 14, 16, 18]\n",
    "$$\n",
    "\n",
    "\n",
    "\n",
    "* Mean $\\mu = 14$\n",
    "* Standard deviation $\\sigma = 2.828$\n",
    "\n",
    "Then, for $x = 10$:\n",
    "\n",
    "$$\n",
    "z = \\frac{10 - 14}{2.828} = \\frac{-4}{2.828} \\approx -1.414\n",
    "$$\n",
    "\n",
    "\n",
    "$$\n",
    "Z = [-1.4, -0.7, 0, 0.7, +1.4]\n",
    "$$\n",
    "\n",
    "\n",
    "```python\n",
    "import numpy as np\n",
    "\n",
    "X = np.array([10, 12, 14, 16, 18])\n",
    "mean = X.mean()\n",
    "std = X.std()\n",
    "\n",
    "Z = (X - mean) / std\n",
    "print(Z)\n",
    "```\n",
    "\n",
    "\n"
   ]
  },
  {
   "cell_type": "code",
   "execution_count": 30,
   "id": "b8a57d99-8d33-48b0-a39d-c1de47656860",
   "metadata": {
    "scrolled": true
   },
   "outputs": [
    {
     "data": {
      "image/png": "[encoded data removed]",
      "text/plain": [
       "<Figure size 640x480 with 2 Axes>"
      ]
     },
     "metadata": {},
     "output_type": "display_data"
    }
   ],
   "source": [
    "import numpy as np\n",
    "import matplotlib.pyplot as plt\n",
    "from sklearn.datasets import load_iris\n",
    "from sklearn.preprocessing import StandardScaler\n",
    "\n",
    "# Load data\n",
    "iris = load_iris()\n",
    "X = iris.data\n",
    "feature_names = iris.feature_names\n",
    "\n",
    "# Scale the data (standardization: mean=0, std=1)\n",
    "scaler = StandardScaler()\n",
    "X_scaled = scaler.fit_transform(X)\n",
    "\n",
    "# Plot: Raw data vs Scaled data\n",
    "#plt.figure(figsize=(12, 5))\n",
    "\n",
    "# Plot 1: Raw data\n",
    "plt.subplot(1, 2, 1)\n",
    "for i in range(X.shape[1]):\n",
    "    plt.plot(X[:, i], label=feature_names[i])\n",
    "plt.title(\"Raw Feature Values\")\n",
    "plt.xlabel(\"Sample Index\")\n",
    "plt.ylabel(\"Original Scale\")\n",
    "plt.legend()\n",
    "# Plot 2: Scaled data\n",
    "plt.subplot(1, 2, 2)\n",
    "for i in range(X_scaled.shape[1]):\n",
    "    plt.plot(X_scaled[:, i], label=feature_names[i])\n",
    "plt.title(\"Standardized Feature Values\")\n",
    "plt.xlabel(\"Sample Index\")\n",
    "plt.ylabel(\"Standard Scale (Z-score)\")\n",
    "\n",
    "plt.legend()\n",
    "\n",
    "plt.show()"
   ]
  },
  {
   "cell_type": "markdown",
   "id": "9635a370-1901-418a-b576-0033a45b3975",
   "metadata": {},
   "source": [
    "### PCA "
   ]
  },
  {
   "cell_type": "code",
   "execution_count": 31,
   "id": "81a1f471-129c-4b26-bc3a-5b9a44f4d7bc",
   "metadata": {},
   "outputs": [
    {
     "name": "stdout",
     "output_type": "stream",
     "text": [
      "Original number of features: 4\n",
      "Reduced number of features after PCA: 2\n",
      "Explained variance ratio of each component: [0.72962445 0.22850762]\n",
      "Total variance preserved: 0.9581320720000164\n"
     ]
    }
   ],
   "source": [
    "from sklearn.datasets import load_iris\n",
    "from sklearn.preprocessing import StandardScaler\n",
    "from sklearn.decomposition import PCA\n",
    "\n",
    "# Step 1: Load the iris dataset\n",
    "iris = load_iris()\n",
    "X = iris.data  # This is a matrix with 150 rows and 4 columns (features)\n",
    "feature_names = iris.feature_names\n",
    "\n",
    "# Step 2: Standardize the data (zero mean, unit variance)\n",
    "scaler = StandardScaler()\n",
    "X_scaled = scaler.fit_transform(X)\n",
    "\n",
    "# Step 3: Apply PCA\n",
    "# We tell PCA to keep enough components to preserve 95% of the variation\n",
    "pca = PCA(n_components=0.95)\n",
    "X_pca = pca.fit_transform(X_scaled)\n",
    "\n",
    "# Step 4: Print results\n",
    "print(\"Original number of features:\", X.shape[1])\n",
    "print(\"Reduced number of features after PCA:\", X_pca.shape[1])\n",
    "print(\"Explained variance ratio of each component:\", pca.explained_variance_ratio_)\n",
    "print(\"Total variance preserved:\", sum(pca.explained_variance_ratio_))\n"
   ]
  },
  {
   "cell_type": "code",
   "execution_count": null,
   "id": "5824b1d4-c636-4313-8b56-8a00102274b0",
   "metadata": {},
   "outputs": [],
   "source": []
  },
  {
   "cell_type": "code",
   "execution_count": null,
   "id": "85cd338d-8769-4acc-a761-2a6938751f86",
   "metadata": {},
   "outputs": [],
   "source": []
  },
  {
   "cell_type": "code",
   "execution_count": 39,
   "id": "a8cf9fae-9beb-4d6a-8769-704cd7f530de",
   "metadata": {},
   "outputs": [
    {
     "data": {
      "image/png": "[encoded data removed]",
      "text/plain": [
       "<Figure size 800x500 with 1 Axes>"
      ]
     },
     "metadata": {},
     "output_type": "display_data"
    }
   ],
   "source": [
    "# Step 5: Plot cumulative explained variance\n",
    "from sklearn.decomposition import PCA\n",
    "pca_full = PCA().fit(X_scaled) # centered by mean\n",
    "cumsum = np.cumsum(pca_full.explained_variance_ratio_) * 100\n",
    "components = np.arange(1, len(cumsum) + 1)\n",
    "\n",
    "plt.figure(figsize=(8, 5))\n",
    "plt.plot(components, cumsum, marker='o', linestyle='--', color='b')\n",
    "plt.xlabel('Number of Principal Components')\n",
    "plt.ylabel('Cumulative Explained Variance (%)')\n",
    "plt.title('Explained Variance vs Number of Components')\n",
    "plt.grid(True)\n",
    "plt.axhline(y=97, color='r', linestyle='--', label='95% Variance Threshold')\n",
    "plt.legend()\n",
    "plt.tight_layout()\n",
    "plt.show()\n"
   ]
  },
  {
   "cell_type": "code",
   "execution_count": null,
   "id": "74a343a5-758a-47bc-8826-b5cbb089eeb1",
   "metadata": {},
   "outputs": [],
   "source": []
  }
 ],
 "metadata": {
  "kernelspec": {
   "display_name": "Python 3 (ipykernel)",
   "language": "python",
   "name": "python3"
  },
  "language_info": {
   "codemirror_mode": {
    "name": "ipython",
    "version": 3
   },
   "file_extension": ".py",
   "mimetype": "text/x-python",
   "name": "python",
   "nbconvert_exporter": "python",
   "pygments_lexer": "ipython3",
   "version": "3.9.6"
  }
 },
 "nbformat": 4,
 "nbformat_minor": 5
}
