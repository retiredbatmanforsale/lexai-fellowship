{
 "cells": [
  {
   "cell_type": "code",
   "execution_count": null,
   "id": "0fbb6f7b-acc6-498d-b6a5-7ef4c1263779",
   "metadata": {},
   "outputs": [],
   "source": []
  },
  {
   "cell_type": "code",
   "execution_count": null,
   "id": "0067346f-f246-43e5-95c0-91bc0766643b",
   "metadata": {},
   "outputs": [],
   "source": []
  },
  {
   "cell_type": "code",
   "execution_count": 131,
   "id": "a609e745-f004-432b-8937-adb243703a66",
   "metadata": {},
   "outputs": [
    {
     "name": "stdout",
     "output_type": "stream",
     "text": [
      "size of X (442, 10)\n"
     ]
    }
   ],
   "source": [
    "print(\"size of X\", X.shape)"
   ]
  },
  {
   "cell_type": "code",
   "execution_count": 132,
   "id": "9ef10901-bcfc-430b-89e1-a4bb74a26b1e",
   "metadata": {},
   "outputs": [
    {
     "name": "stdout",
     "output_type": "stream",
     "text": [
      "size of y (442,)\n"
     ]
    }
   ],
   "source": [
    "print(\"size of y\", y.shape)"
   ]
  },
  {
   "cell_type": "code",
   "execution_count": 133,
   "id": "4ceb9108-c831-456e-a10a-47f3edb7a85b",
   "metadata": {},
   "outputs": [
    {
     "data": {
      "text/plain": [
       "array([151.,  75., 141., 206., 135.,  97., 138.,  63., 110., 310., 101.,\n",
       "        69., 179., 185., 118., 171., 166., 144.,  97., 168.,  68.,  49.,\n",
       "        68., 245., 184., 202., 137.,  85., 131., 283., 129.,  59., 341.,\n",
       "        87.,  65., 102., 265., 276., 252.,  90., 100.,  55.,  61.,  92.,\n",
       "       259.,  53., 190., 142.,  75., 142., 155., 225.,  59., 104., 182.,\n",
       "       128.,  52.,  37., 170., 170.,  61., 144.,  52., 128.,  71., 163.,\n",
       "       150.,  97., 160., 178.,  48., 270., 202., 111.,  85.,  42., 170.,\n",
       "       200., 252., 113., 143.,  51.,  52., 210.,  65., 141.,  55., 134.,\n",
       "        42., 111.,  98., 164.,  48.,  96.,  90., 162., 150., 279.,  92.,\n",
       "        83., 128., 102., 302., 198.,  95.,  53., 134., 144., 232.,  81.,\n",
       "       104.,  59., 246., 297., 258., 229., 275., 281., 179., 200., 200.,\n",
       "       173., 180.,  84., 121., 161.,  99., 109., 115., 268., 274., 158.,\n",
       "       107.,  83., 103., 272.,  85., 280., 336., 281., 118., 317., 235.,\n",
       "        60., 174., 259., 178., 128.,  96., 126., 288.,  88., 292.,  71.,\n",
       "       197., 186.,  25.,  84.,  96., 195.,  53., 217., 172., 131., 214.,\n",
       "        59.,  70., 220., 268., 152.,  47.,  74., 295., 101., 151., 127.,\n",
       "       237., 225.,  81., 151., 107.,  64., 138., 185., 265., 101., 137.,\n",
       "       143., 141.,  79., 292., 178.,  91., 116.,  86., 122.,  72., 129.,\n",
       "       142.,  90., 158.,  39., 196., 222., 277.,  99., 196., 202., 155.,\n",
       "        77., 191.,  70.,  73.,  49.,  65., 263., 248., 296., 214., 185.,\n",
       "        78.,  93., 252., 150.,  77., 208.,  77., 108., 160.,  53., 220.,\n",
       "       154., 259.,  90., 246., 124.,  67.,  72., 257., 262., 275., 177.,\n",
       "        71.,  47., 187., 125.,  78.,  51., 258., 215., 303., 243.,  91.,\n",
       "       150., 310., 153., 346.,  63.,  89.,  50.,  39., 103., 308., 116.,\n",
       "       145.,  74.,  45., 115., 264.,  87., 202., 127., 182., 241.,  66.,\n",
       "        94., 283.,  64., 102., 200., 265.,  94., 230., 181., 156., 233.,\n",
       "        60., 219.,  80.,  68., 332., 248.,  84., 200.,  55.,  85.,  89.,\n",
       "        31., 129.,  83., 275.,  65., 198., 236., 253., 124.,  44., 172.,\n",
       "       114., 142., 109., 180., 144., 163., 147.,  97., 220., 190., 109.,\n",
       "       191., 122., 230., 242., 248., 249., 192., 131., 237.,  78., 135.,\n",
       "       244., 199., 270., 164.,  72.,  96., 306.,  91., 214.,  95., 216.,\n",
       "       263., 178., 113., 200., 139., 139.,  88., 148.,  88., 243.,  71.,\n",
       "        77., 109., 272.,  60.,  54., 221.,  90., 311., 281., 182., 321.,\n",
       "        58., 262., 206., 233., 242., 123., 167.,  63., 197.,  71., 168.,\n",
       "       140., 217., 121., 235., 245.,  40.,  52., 104., 132.,  88.,  69.,\n",
       "       219.,  72., 201., 110.,  51., 277.,  63., 118.,  69., 273., 258.,\n",
       "        43., 198., 242., 232., 175.,  93., 168., 275., 293., 281.,  72.,\n",
       "       140., 189., 181., 209., 136., 261., 113., 131., 174., 257.,  55.,\n",
       "        84.,  42., 146., 212., 233.,  91., 111., 152., 120.,  67., 310.,\n",
       "        94., 183.,  66., 173.,  72.,  49.,  64.,  48., 178., 104., 132.,\n",
       "       220.,  57.])"
      ]
     },
     "execution_count": 133,
     "metadata": {},
     "output_type": "execute_result"
    }
   ],
   "source": [
    "y"
   ]
  },
  {
   "cell_type": "code",
   "execution_count": 134,
   "id": "7b4e1c3a-556c-4183-b0ef-10f2404177ab",
   "metadata": {},
   "outputs": [
    {
     "data": {
      "text/plain": [
       "['age', 'sex', 'bmi', 'bp', 's1', 's2', 's3', 's4', 's5', 's6']"
      ]
     },
     "execution_count": 134,
     "metadata": {},
     "output_type": "execute_result"
    }
   ],
   "source": [
    "data.feature_names"
   ]
  },
  {
   "cell_type": "code",
   "execution_count": 135,
   "id": "10671e72-07ec-47c3-bfb2-d4f93ba9f847",
   "metadata": {},
   "outputs": [],
   "source": [
    "X_train, X_test, y_train, y_test = train_test_split(X,y, test_size = 0.2, random_state=42)"
   ]
  },
  {
   "cell_type": "code",
   "execution_count": 136,
   "id": "04365b3a-8eae-4af5-96aa-71e5d9de790c",
   "metadata": {},
   "outputs": [
    {
     "data": {
      "text/plain": [
       "((353, 10), (89, 10), (353,), (89,))"
      ]
     },
     "execution_count": 136,
     "metadata": {},
     "output_type": "execute_result"
    }
   ],
   "source": [
    "X_train.shape, X_test.shape, y_train.shape, y_test.shape"
   ]
  },
  {
   "cell_type": "code",
   "execution_count": 137,
   "id": "f5a814bd-a837-4ae6-b9aa-000ab2c3a586",
   "metadata": {},
   "outputs": [],
   "source": [
    "scaler = StandardScaler()\n",
    "X_train_scaled = scaler.fit_transform(X_train)\n",
    "X_test_scaled = scaler.transform(X_test)"
   ]
  },
  {
   "cell_type": "code",
   "execution_count": 138,
   "id": "da1e6ece-3395-4731-bdb4-6ec60c351a40",
   "metadata": {},
   "outputs": [],
   "source": [
    "scaler = StandardScaler()\n",
    "y_train_scaled = scaler.fit_transform(y_train.reshape(-1,1)).flatten()\n",
    "y_test_scaled = scaler.transform(y_test.reshape(-1,1)).flatten()"
   ]
  },
  {
   "cell_type": "code",
   "execution_count": 139,
   "id": "6a2e95a3-ab82-4e2f-a298-3c344a43456b",
   "metadata": {},
   "outputs": [],
   "source": [
    "epochs = 50000\n",
    "learning_rate = 0.0001\n",
    "n = X_train.shape[1] # 10\n",
    "b = 0 # initialising to 0\n",
    "w = np.zeros(n)  # initialising to 0"
   ]
  },
  {
   "cell_type": "markdown",
   "id": "bc007739-cf53-4b7b-844f-a94ea90ecd8a",
   "metadata": {},
   "source": [
    "\n",
    "### Final Derivatives\n",
    "\n",
    "$$\n",
    "\\frac{\\partial J}{\\partial m} = -2 \\sum_{i=1}^n x_i \\cdot \\left( y_i - (mx_i + c) \\right)\n",
    "$$\n",
    "\n",
    "$$\n",
    "\\frac{\\partial J}{\\partial c} = -2 \\sum_{i=1}^n \\left( y_i - (mx_i + c) \\right)\n",
    "$$\n",
    "\n",
    "* Repeatedly update:\n",
    "\n",
    "  $$\n",
    "  m := m - \\alpha \\cdot \\frac{\\partial J}{\\partial m}\n",
    "  $$\n",
    "\n",
    "  $$\n",
    "  c := c - \\alpha \\cdot \\frac{\\partial J}{\\partial c}\n",
    "  $$\n",
    "* Where $\\alpha$ is the **learning rate** (a small number like 0.01)\n",
    "\n",
    "\n",
    "\n"
   ]
  },
  {
   "cell_type": "code",
   "execution_count": 140,
   "id": "50e15cac-f0aa-4721-a733-95fd908b105d",
   "metadata": {},
   "outputs": [],
   "source": [
    "losses = []\n",
    "# gradient descent \n",
    "for epoch in range(epochs):\n",
    "    y_pred_scaled = X_train_scaled.dot(w) + b\n",
    "\n",
    "    error = y_train_scaled - y_pred_scaled  # true - predict\n",
    "\n",
    "    dw = (1/len(X_train)) * np.sum(X_train_scaled.T.dot(error))   # parameter m\n",
    "    db = (1/len(X_train)) * np.sum(error) # parameter c\n",
    "\n",
    "    # update weights \n",
    "    w -= learning_rate * dw\n",
    "    b -= learning_rate * db\n",
    "    mse = np.mean(error **2)\n",
    "    losses.append(mse)\n",
    "    \n",
    "    "
   ]
  },
  {
   "cell_type": "code",
   "execution_count": 141,
   "id": "07d5b44c-fc2b-4d3d-9802-d3b07e79ac9b",
   "metadata": {},
   "outputs": [],
   "source": [
    "y_pred_scaled_test = X_test_scaled.dot(w) +b \n"
   ]
  },
  {
   "cell_type": "code",
   "execution_count": 142,
   "id": "5b3d409b-d14c-4496-a8fc-22efdc888176",
   "metadata": {},
   "outputs": [],
   "source": [
    "y_pred_descaled = scaler.inverse_transform(y_pred_scaled.reshape(-1,1)).flatten()\n"
   ]
  },
  {
   "cell_type": "code",
   "execution_count": 143,
   "id": "12d01efb-5673-43f2-b285-5ec2bf4fd3cb",
   "metadata": {},
   "outputs": [],
   "source": [
    "test_mse = np.mean((y_pred_scaled_test - y_test)**2)"
   ]
  },
  {
   "cell_type": "code",
   "execution_count": 144,
   "id": "610e8fd0-8ec5-4d8c-b184-9a0ac434e3c0",
   "metadata": {},
   "outputs": [
    {
     "data": {
      "text/plain": [
       "(89,)"
      ]
     },
     "execution_count": 144,
     "metadata": {},
     "output_type": "execute_result"
    }
   ],
   "source": [
    "y_test.shape; y_pred_scaled_test.shape"
   ]
  },
  {
   "cell_type": "code",
   "execution_count": 145,
   "id": "58246a23-aa1f-48b1-b4bd-3a93c7d2f4b9",
   "metadata": {},
   "outputs": [
    {
     "data": {
      "image/png": "[encoded data removed]",
      "text/plain": [
       "<Figure size 640x480 with 1 Axes>"
      ]
     },
     "metadata": {},
     "output_type": "display_data"
    }
   ],
   "source": [
    "plt.plot(losses)\n",
    "plt.show()"
   ]
  },
  {
   "cell_type": "code",
   "execution_count": null,
   "id": "2af488c7-c757-45e6-97dc-c28365438fde",
   "metadata": {},
   "outputs": [],
   "source": []
  },
  {
   "cell_type": "code",
   "execution_count": null,
   "id": "d2ef9e12-ef4c-4a1c-9866-812f41ff1779",
   "metadata": {},
   "outputs": [],
   "source": []
  },
  {
   "cell_type": "code",
   "execution_count": 153,
   "id": "365b9f96-045d-4c00-8e5e-5e941f4af105",
   "metadata": {},
   "outputs": [
    {
     "data": {
      "image/png": "[encoded data removed]",
      "text/plain": [
       "<Figure size 1000x400 with 1 Axes>"
      ]
     },
     "metadata": {},
     "output_type": "display_data"
    }
   ],
   "source": []
  },
  {
   "cell_type": "code",
   "execution_count": 154,
   "id": "20a0fe03-9695-4325-996b-56a4fef2c24c",
   "metadata": {},
   "outputs": [],
   "source": [
    "data = load_diabetes()\n",
    "X = data.data \n",
    "y = data.target"
   ]
  },
  {
   "cell_type": "code",
   "execution_count": 163,
   "id": "f8375f27-8cb1-401f-9f34-174afac2ea86",
   "metadata": {},
   "outputs": [],
   "source": [
    "X_mean = np.mean(X, axis = 0)"
   ]
  },
  {
   "cell_type": "code",
   "execution_count": 164,
   "id": "2c0133bd-0c0c-4bf5-8bff-e040e3be7010",
   "metadata": {},
   "outputs": [
    {
     "data": {
      "text/plain": [
       "array([ 0.03807591, -0.00188202,  0.08529891, -0.08906294,  0.00538306,\n",
       "       -0.09269548, -0.04547248,  0.06350368,  0.04170844, -0.07090025,\n",
       "       -0.09632802,  0.02717829,  0.01628068,  0.00538306,  0.04534098,\n",
       "       -0.05273755, -0.00551455,  0.07076875, -0.0382074 , -0.02730979,\n",
       "       -0.04910502, -0.0854304 , -0.0854304 ,  0.04534098, -0.06363517,\n",
       "       -0.06726771, -0.10722563, -0.02367725,  0.05260606,  0.06713621,\n",
       "       -0.06000263, -0.02367725,  0.03444337,  0.03081083,  0.01628068,\n",
       "        0.04897352,  0.01264814, -0.00914709, -0.00188202, -0.00188202,\n",
       "        0.00538306, -0.09996055, -0.06000263,  0.01991321,  0.04534098,\n",
       "        0.02717829, -0.05637009, -0.07816532,  0.06713621, -0.04183994,\n",
       "        0.03444337,  0.05987114, -0.05273755, -0.00914709, -0.04910502,\n",
       "       -0.04183994, -0.04183994, -0.02730979,  0.04170844,  0.06350368,\n",
       "       -0.07090025, -0.04183994, -0.02730979, -0.03457486,  0.06713621,\n",
       "       -0.04547248, -0.00914709,  0.04170844,  0.03807591,  0.01628068,\n",
       "       -0.00188202, -0.00188202,  0.06350368,  0.01264814,  0.01264814,\n",
       "       -0.00914709, -0.03094232, -0.09632802,  0.00538306, -0.10359309,\n",
       "        0.07076875,  0.01264814, -0.01641217, -0.0382074 ,  0.00175052,\n",
       "        0.04534098, -0.07090025,  0.04534098, -0.05273755, -0.04547248,\n",
       "        0.01264814,  0.04534098, -0.02004471, -0.04910502, -0.07816532,\n",
       "       -0.07090025,  0.0562386 , -0.02730979,  0.00175052, -0.00188202,\n",
       "        0.01628068,  0.01628068, -0.09269548,  0.05987114, -0.02730979,\n",
       "        0.02354575, -0.09632802,  0.02717829,  0.01991321,  0.03807591,\n",
       "        0.04170844,  0.01991321, -0.0854304 ,  0.01991321,  0.02354575,\n",
       "       -0.03094232,  0.04897352,  0.05987114, -0.05637009,  0.01628068,\n",
       "       -0.04910502,  0.06350368,  0.04897352,  0.00538306, -0.00551455,\n",
       "       -0.00551455, -0.08906294,  0.03444337, -0.05273755,  0.0090156 ,\n",
       "       -0.06363517, -0.09632802,  0.01628068, -0.04183994, -0.07453279,\n",
       "       -0.00551455, -0.09269548,  0.00538306,  0.03444337,  0.02354575,\n",
       "        0.04170844, -0.02730979,  0.04170844, -0.03094232,  0.03081083,\n",
       "       -0.04183994, -0.03094232, -0.05637009, -0.06000263, -0.04910502,\n",
       "        0.02354575,  0.00175052, -0.03457486,  0.04170844,  0.06713621,\n",
       "       -0.02730979, -0.01641217, -0.00188202, -0.01277963, -0.00551455,\n",
       "       -0.00914709, -0.04547248, -0.05273755,  0.01628068,  0.04534098,\n",
       "       -0.04183994, -0.05637009,  0.07076875,  0.00175052, -0.00188202,\n",
       "        0.02354575, -0.02004471,  0.04170844, -0.06363517,  0.01628068,\n",
       "        0.06713621,  0.04534098,  0.04897352,  0.04170844, -0.02367725,\n",
       "       -0.0382074 ,  0.04897352,  0.04534098,  0.04534098,  0.01628068,\n",
       "       -0.07453279, -0.08179786, -0.06726771,  0.00538306, -0.00188202,\n",
       "        0.0090156 , -0.00551455,  0.0562386 ,  0.0090156 , -0.06726771,\n",
       "        0.02717829, -0.02367725,  0.04897352, -0.05273755,  0.04170844,\n",
       "        0.0562386 , -0.03457486,  0.08166637, -0.00188202,  0.11072668,\n",
       "       -0.03094232,  0.00175052,  0.0090156 ,  0.03081083,  0.03807591,\n",
       "        0.0090156 ,  0.09256398,  0.06713621,  0.00175052,  0.03081083,\n",
       "        0.02717829,  0.01264814,  0.07440129, -0.04183994, -0.08906294,\n",
       "        0.02354575, -0.04547248, -0.02367725, -0.09996055, -0.02730979,\n",
       "        0.03081083, -0.10359309,  0.06713621, -0.05273755, -0.02730979,\n",
       "       -0.0382074 ,  0.0090156 ,  0.01264814,  0.06713621,  0.04534098,\n",
       "        0.06713621,  0.02717829,  0.0562386 ,  0.03444337,  0.02354575,\n",
       "        0.04897352,  0.03081083, -0.10359309,  0.01628068, -0.06000263,\n",
       "       -0.02730979,  0.04170844, -0.08179786, -0.04183994, -0.01277963,\n",
       "        0.06713621, -0.05273755,  0.00538306,  0.08166637,  0.03081083,\n",
       "        0.00175052, -0.04910502, -0.02730979,  0.07803383,  0.01264814,\n",
       "        0.04170844,  0.04897352, -0.01641217, -0.07453279,  0.03444337,\n",
       "       -0.03457486, -0.05273755,  0.05987114,  0.06350368,  0.0090156 ,\n",
       "        0.00538306,  0.03807591,  0.01264814,  0.07440129,  0.01628068,\n",
       "       -0.00551455,  0.01264814, -0.03457486,  0.06713621,  0.03807591,\n",
       "        0.0090156 , -0.09269548,  0.07076875, -0.01641217,  0.04170844,\n",
       "        0.01264814, -0.0382074 ,  0.04534098,  0.07076875, -0.07453279,\n",
       "        0.05987114,  0.07440129,  0.0090156 , -0.07090025,  0.02354575,\n",
       "       -0.05273755,  0.06713621,  0.00175052,  0.02354575,  0.03807591,\n",
       "        0.01628068, -0.00188202,  0.01264814,  0.07440129,  0.04170844,\n",
       "       -0.00914709,  0.0090156 ,  0.06713621,  0.00175052, -0.00914709,\n",
       "       -0.00551455,  0.09619652, -0.07453279,  0.05987114, -0.02367725,\n",
       "        0.0090156 ,  0.01628068,  0.01991321,  0.08893144,  0.01991321,\n",
       "       -0.02367725,  0.09619652,  0.02354575,  0.07076875,  0.03081083,\n",
       "       -0.00188202,  0.04534098,  0.07440129, -0.0382074 , -0.01277963,\n",
       "        0.0090156 ,  0.08166637,  0.03081083,  0.02717829, -0.06000263,\n",
       "        0.00538306, -0.02004471,  0.01991321, -0.06363517,  0.02717829,\n",
       "       -0.01641217,  0.03081083,  0.0562386 , -0.02004471, -0.10722563,\n",
       "        0.08166637,  0.00538306,  0.03807591,  0.03081083,  0.00175052,\n",
       "       -0.02730979, -0.0854304 ,  0.01264814, -0.05273755, -0.02367725,\n",
       "       -0.07453279, -0.00551455, -0.06000263, -0.02004471,  0.03807591,\n",
       "        0.01628068,  0.04170844,  0.01991321, -0.04910502,  0.00175052,\n",
       "        0.03444337, -0.04547248, -0.00914709, -0.01641217, -0.00914709,\n",
       "        0.01991321,  0.05260606, -0.02730979, -0.07453279, -0.10722563,\n",
       "        0.04534098, -0.00188202,  0.01991321,  0.01628068, -0.00188202,\n",
       "        0.01628068, -0.07090025,  0.04897352,  0.00538306,  0.03444337,\n",
       "        0.02354575,  0.01991321, -0.04547248,  0.05260606, -0.00551455,\n",
       "        0.0090156 , -0.02367725, -0.04183994, -0.07453279,  0.03444337,\n",
       "       -0.06000263, -0.0854304 ,  0.05260606,  0.01264814,  0.05987114,\n",
       "       -0.02367725,  0.01628068,  0.11072668, -0.02004471, -0.01641217,\n",
       "        0.04897352, -0.05637009,  0.02717829,  0.06350368, -0.05273755,\n",
       "       -0.00914709,  0.00538306,  0.07440129, -0.05273755,  0.08166637,\n",
       "       -0.00551455, -0.02730979, -0.05273755,  0.0090156 , -0.02004471,\n",
       "        0.02354575,  0.03807591, -0.07816532,  0.0090156 ,  0.00175052,\n",
       "       -0.07816532,  0.03081083, -0.03457486,  0.04897352, -0.04183994,\n",
       "       -0.00914709,  0.07076875,  0.0090156 , -0.02730979,  0.01628068,\n",
       "       -0.01277963, -0.05637009,  0.04170844, -0.00551455,  0.04170844,\n",
       "       -0.04547248, -0.04547248])"
      ]
     },
     "execution_count": 164,
     "metadata": {},
     "output_type": "execute_result"
    }
   ],
   "source": [
    "(X[:,i] - X_mean[i]) / np.std(X,axis = 0)"
   ]
  },
  {
   "cell_type": "code",
   "execution_count": null,
   "id": "0c1e46e3-e8db-4ed5-90c4-108165a50263",
   "metadata": {},
   "outputs": [],
   "source": []
  }
 ],
 "metadata": {
  "kernelspec": {
   "display_name": "Python 3 (ipykernel)",
   "language": "python",
   "name": "python3"
  },
  "language_info": {
   "codemirror_mode": {
    "name": "ipython",
    "version": 3
   },
   "file_extension": ".py",
   "mimetype": "text/x-python",
   "name": "python",
   "nbconvert_exporter": "python",
   "pygments_lexer": "ipython3",
   "version": "3.9.6"
  }
 },
 "nbformat": 4,
 "nbformat_minor": 5
}
