{
 "cells": [
  {
   "cell_type": "code",
   "execution_count": 1,
   "id": "cc6252da-5cb2-4ae6-a8f4-271c57bc2017",
   "metadata": {},
   "outputs": [
    {
     "name": "stdout",
     "output_type": "stream",
     "text": [
      "hey\n"
     ]
    }
   ],
   "source": [
    "print(\"hey\")"
   ]
  },
  {
   "cell_type": "markdown",
   "id": "26691cd0-5cf4-49d8-bef5-595e014ecf72",
   "metadata": {},
   "source": [
    "#### We are going to study ML workflow today"
   ]
  },
  {
   "cell_type": "code",
   "execution_count": null,
   "id": "25a05d67-a2ca-42cc-8f34-1b78e9868fa0",
   "metadata": {},
   "outputs": [],
   "source": []
  },
  {
   "cell_type": "code",
   "execution_count": null,
   "id": "a82a0498-36bb-4e36-92f3-51078b9cf478",
   "metadata": {},
   "outputs": [],
   "source": []
  }
 ],
 "metadata": {
  "kernelspec": {
   "display_name": "Python 3 (ipykernel)",
   "language": "python",
   "name": "python3"
  },
  "language_info": {
   "codemirror_mode": {
    "name": "ipython",
    "version": 3
   },
   "file_extension": ".py",
   "mimetype": "text/x-python",
   "name": "python",
   "nbconvert_exporter": "python",
   "pygments_lexer": "ipython3",
   "version": "3.9.6"
  }
 },
 "nbformat": 4,
 "nbformat_minor": 5
}
