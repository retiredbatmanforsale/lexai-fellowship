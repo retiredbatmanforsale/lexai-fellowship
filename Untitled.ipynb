{
 "cells": [
  {
   "cell_type": "code",
   "execution_count": null,
   "id": "9965655c-fd1c-4588-bbee-6cab048158c7",
   "metadata": {},
   "outputs": [],
   "source": [
    "import cv2\n",
    "import numpy as np\n",
    "\n",
    "# Read the image in grayscale\n",
    "image = cv2.imread('your_image.jpg', cv2.IMREAD_GRAYSCALE)\n",
    "\n",
    "# Define a simple 3x3 sharpening kernel\n",
    "kernel = np.array([[ 0, -1,  0],\n",
    "                   [-1,  5, -1],\n",
    "                   [ 0, -1,  0]])\n",
    "\n",
    "# Apply the filter using cv2.filter2D\n",
    "filtered_image = cv2.filter2D(image, -1, kernel)\n",
    "\n",
    "# Save or display the filtered image\n",
    "cv2.imwrite('filtered_image.jpg', filtered_image)\n",
    "cv2.imshow('Filtered', filtered_image)\n",
    "cv2.waitKey(0)\n",
    "cv2.destroyAllWindows()"
   ]
  }
 ],
 "metadata": {
  "kernelspec": {
   "display_name": "Python 3 (ipykernel)",
   "language": "python",
   "name": "python3"
  },
  "language_info": {
   "codemirror_mode": {
    "name": "ipython",
    "version": 3
   },
   "file_extension": ".py",
   "mimetype": "text/x-python",
   "name": "python",
   "nbconvert_exporter": "python",
   "pygments_lexer": "ipython3",
   "version": "3.9.6"
  }
 },
 "nbformat": 4,
 "nbformat_minor": 5
}
