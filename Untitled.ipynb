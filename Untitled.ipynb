{
 "cells": [
  {
   "cell_type": "code",
   "execution_count": 1,
   "id": "d3d5e798-43f9-40b4-9bf7-a36f2f80bac7",
   "metadata": {},
   "outputs": [],
   "source": [
    "import numpy as np\n",
    "import matplotlib.pyplot as plt"
   ]
  },
  {
   "cell_type": "code",
   "execution_count": 5,
   "id": "1d46baa7-e147-4a0b-99e3-8a1df5e18765",
   "metadata": {},
   "outputs": [],
   "source": [
    "input_size = 10\n",
    "hidden_size = 13\n",
    "W1 = np.random.randn(input_size, hidden_size) * 0.5"
   ]
  },
  {
   "cell_type": "code",
   "execution_count": 6,
   "id": "e4667f20-051b-42d9-9d22-c90c0fcac050",
   "metadata": {},
   "outputs": [
    {
     "data": {
      "text/plain": [
       "(10, 13)"
      ]
     },
     "execution_count": 6,
     "metadata": {},
     "output_type": "execute_result"
    }
   ],
   "source": []
  },
  {
   "cell_type": "code",
   "execution_count": 7,
   "id": "e73e1dcf-c607-4691-a80a-f9841642c948",
   "metadata": {},
   "outputs": [],
   "source": [
    "b1 = np.zeros((1, hidden_size))"
   ]
  },
  {
   "cell_type": "code",
   "execution_count": 8,
   "id": "038a96e8-0dde-4c0c-868f-f44cba5f965a",
   "metadata": {},
   "outputs": [
    {
     "data": {
      "text/plain": [
       "(1, 13)"
      ]
     },
     "execution_count": 8,
     "metadata": {},
     "output_type": "execute_result"
    }
   ],
   "source": [
    "b1.shape"
   ]
  },
  {
   "cell_type": "code",
   "execution_count": 9,
   "id": "318e5a72-59d9-421c-8620-80d1b0b012ec",
   "metadata": {},
   "outputs": [],
   "source": [
    "W2 = np.random.randn(hidden_size, 1) * 0.5"
   ]
  },
  {
   "cell_type": "code",
   "execution_count": 10,
   "id": "81235376-616d-49e2-b5af-f40ecca59bed",
   "metadata": {},
   "outputs": [
    {
     "data": {
      "text/plain": [
       "(13, 1)"
      ]
     },
     "execution_count": 10,
     "metadata": {},
     "output_type": "execute_result"
    }
   ],
   "source": [
    "W2.shape"
   ]
  },
  {
   "cell_type": "code",
   "execution_count": 14,
   "id": "a4423306-ad17-4c89-94aa-7ece6e18b02c",
   "metadata": {},
   "outputs": [
    {
     "data": {
      "text/plain": [
       "np.int64(500)"
      ]
     },
     "execution_count": 14,
     "metadata": {},
     "output_type": "execute_result"
    }
   ],
   "source": [
    "\n",
    "np.clip(1010, -500, 500)"
   ]
  },
  {
   "cell_type": "code",
   "execution_count": 16,
   "id": "bb24d763-78b0-4737-9289-6854cdf34188",
   "metadata": {},
   "outputs": [
    {
     "data": {
      "text/plain": [
       "np.float64(1.4035922178528375e+217)"
      ]
     },
     "execution_count": 16,
     "metadata": {},
     "output_type": "execute_result"
    }
   ],
   "source": [
    "np.exp(500)"
   ]
  },
  {
   "cell_type": "code",
   "execution_count": 17,
   "id": "af5dbebd-86a3-407d-aca3-39f0f99339fd",
   "metadata": {},
   "outputs": [],
   "source": [
    "X = np.random.randn(120,10)"
   ]
  },
  {
   "cell_type": "code",
   "execution_count": 20,
   "id": "c73dbe97-e00d-4bae-ad03-9cc7b6875780",
   "metadata": {},
   "outputs": [
    {
     "data": {
      "text/plain": [
       "(10, 13)"
      ]
     },
     "execution_count": 20,
     "metadata": {},
     "output_type": "execute_result"
    }
   ],
   "source": [
    "W1.shape"
   ]
  },
  {
   "cell_type": "code",
   "execution_count": null,
   "id": "cc9aa778-15e6-4b1a-aab9-92c8becaeec2",
   "metadata": {},
   "outputs": [],
   "source": []
  },
  {
   "cell_type": "code",
   "execution_count": null,
   "id": "2fec54b8-4a3d-4877-852e-b10a615f45e8",
   "metadata": {},
   "outputs": [],
   "source": []
  }
 ],
 "metadata": {
  "kernelspec": {
   "display_name": "Python 3 (ipykernel)",
   "language": "python",
   "name": "python3"
  },
  "language_info": {
   "codemirror_mode": {
    "name": "ipython",
    "version": 3
   },
   "file_extension": ".py",
   "mimetype": "text/x-python",
   "name": "python",
   "nbconvert_exporter": "python",
   "pygments_lexer": "ipython3",
   "version": "3.9.6"
  }
 },
 "nbformat": 4,
 "nbformat_minor": 5
}
