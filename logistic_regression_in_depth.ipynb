{
 "cells": [
  {
   "cell_type": "markdown",
   "metadata": {},
   "source": [
    "# Logistic Regression: A Complete Guide\n",
    "\n",
    "This notebook provides a comprehensive introduction to logistic regression, covering:\n",
    "1. Mathematical foundations\n",
    "2. Implementation using scikit-learn\n",
    "3. Building logistic regression from scratch\n",
    "\n",
    "## 1. Mathematical Foundations of Logistic Regression\n",
    "\n",
    "### 1.1 Why Logistic Regression?\n",
    "\n",
    "While linear regression works well for predicting continuous values, it's not suitable for classification problems. Logistic regression extends linear regression to handle binary classification tasks.\n",
    "\n",
    "### 1.2 The Logistic Function (Sigmoid)\n",
    "\n",
    "The core of logistic regression is the logistic (sigmoid) function:\n",
    "\n",
    "$$\\sigma(z) = \\frac{1}{1 + e^{-z}}$$\n",
    "\n",
    "This function maps any real-valued input to a value between 0 and 1, making it perfect for probability estimation."
   ]
  },
  {
   "cell_type": "code",
   "execution_count": 13,
   "metadata": {},
   "outputs": [
    {
     "data": {
      "image/png": "[encoded data removed]",
      "text/plain": [
       "<Figure size 640x480 with 1 Axes>"
      ]
     },
     "metadata": {},
     "output_type": "display_data"
    }
   ],
   "source": [
    "import numpy as np\n",
    "import matplotlib.pyplot as plt\n",
    "import pandas as pd # pandas pd.read_csv\n",
    "from sklearn.datasets import make_classification \n",
    "from sklearn.model_selection import train_test_split \n",
    "from sklearn.preprocessing import StandardScaler # z = (x - mean)/ std.dev\n",
    "from sklearn.linear_model import LogisticRegression\n",
    "from sklearn.metrics import accuracy_score, classification_report, confusion_matrix\n",
    "import seaborn as sns\n",
    "\n",
    "\n",
    "# Visualize the sigmoid function\n",
    "def sigmoid(z):\n",
    "    return 1 / (1 + np.exp(-z)) # 0.0, 0.1, 0.2, 0.3 , 0.4, 0.5, 0.6, 0.7, 0.8, 0.9, 1.0 \n",
    "\n",
    "z = np.linspace(-10, 10, 100)\n",
    "plt.plot(z, sigmoid(z))\n",
    "plt.grid(True, alpha=0.3)\n",
    "plt.xlabel('z', fontsize=12)\n",
    "plt.ylabel('σ(z)', fontsize=12)\n",
    "plt.title('Sigmoid Function', fontsize=14)\n",
    "plt.axhline(y=0.5, color='r', linestyle='--', alpha=0.7)\n",
    "plt.axvline(x=0, color='r', linestyle='--', alpha=0.7)\n",
    "plt.show()"
   ]
  },
  {
   "cell_type": "markdown",
   "metadata": {},
   "source": [
    "### 1.3 The Logistic Regression Model\n",
    "\n",
    "In logistic regression, we model the probability of the positive class (y=1) as:\n",
    "\n",
    "$$P(y=1|x) = \\sigma(w^T x + b) = \\frac{1}{1 + e^{-(w^T x + b)}}$$\n",
    "\n",
    "Where:\n",
    "- $w$ is the weight vector\n",
    "- $x$ is the feature vector\n",
    "- $b$ is the bias term\n",
    "- $w^T x + b$ is the linear combination (similar to linear regression)\n",
    "\n",
    "### 1.4 Cost Function\n",
    "\n",
    "We use the binary cross-entropy (log loss) as our cost function:\n",
    "\n",
    "$$J(w, b) = -\\frac{1}{m} \\sum_{i=1}^{m} [y^{(i)} \\log(\\hat{y}^{(i)}) + (1-y^{(i)}) \\log(1-\\hat{y}^{(i)})]$$\n",
    "\n",
    "``` python\n",
    "loss = -np.mean(y_true * np.log(y_pred) + (1 - y_true) * np.log(1 - y_pred))\n",
    "```\n",
    "Where:\n",
    "- $m$ is the number of training examples\n",
    "- $y^{(i)}$ is the actual label of the $i$-th example\n",
    "- $\\hat{y}^{(i)}$ is the predicted probability for the $i$-th example\n",
    "\n",
    "### 1.5 Gradient Descent\n",
    "\n",
    "To minimize the cost function, we use gradient descent. The gradients are:\n",
    "\n",
    "$$\\frac{\\partial J}{\\partial w_j} = \\frac{1}{m} \\sum_{i=1}^{m} (\\hat{y}^{(i)} - y^{(i)}) x_j^{(i)}$$\n",
    "\n",
    "$$\\frac{\\partial J}{\\partial b} = \\frac{1}{m} \\sum_{i=1}^{m} (\\hat{y}^{(i)} - y^{(i)})$$\n",
    "\n",
    "The update rules are:\n",
    "\n",
    "$$w := w - \\alpha \\frac{\\partial J}{\\partial w}$$\n",
    "$$b := b - \\alpha \\frac{\\partial J}{\\partial b}$$\n",
    "\n",
    "\n",
    "If w and b were considered as a single parameter matrix in the vectorized form, then we would write the derivative as \n",
    "\n",
    "### **Gradient of the Loss w\\.r.t. Parameters $\\beta$:**\n",
    "\n",
    "We take derivative of the loss $\\mathcal{L}$ with respect to $\\beta$:\n",
    "\n",
    "$$\n",
    "\\frac{\\partial \\mathcal{L}}{\\partial \\beta} = X^T (\\hat{y} - y)\n",
    "$$\n",
    "\n",
    "Where:\n",
    "\n",
    "* $\\hat{y} = \\sigma(X\\beta)$\n",
    "* $y$ is the vector of true labels\n"
   ]
  },
  {
   "cell_type": "markdown",
   "metadata": {},
   "source": [
    "## 2. Implementation Using Scikit-Learn\n",
    "\n",
    "Let's implement logistic regression using scikit-learn on a synthetic dataset."
   ]
  },
  {
   "cell_type": "code",
   "execution_count": 14,
   "metadata": {},
   "outputs": [
    {
     "name": "stdout",
     "output_type": "stream",
     "text": [
      "Accuracy: 0.825\n",
      "\n",
      "Classification Report:\n",
      "              precision    recall  f1-score   support\n",
      "\n",
      "           0       0.83      0.84      0.84       106\n",
      "           1       0.82      0.81      0.81        94\n",
      "\n",
      "    accuracy                           0.82       200\n",
      "   macro avg       0.82      0.82      0.82       200\n",
      "weighted avg       0.82      0.82      0.82       200\n",
      "\n"
     ]
    },
    {
     "name": "stderr",
     "output_type": "stream",
     "text": [
      "/Users/lexai/Library/Python/3.9/lib/python/site-packages/sklearn/linear_model/_linear_loss.py:200: RuntimeWarning: divide by zero encountered in matmul\n",
      "  raw_prediction = X @ weights + intercept\n",
      "/Users/lexai/Library/Python/3.9/lib/python/site-packages/sklearn/linear_model/_linear_loss.py:200: RuntimeWarning: overflow encountered in matmul\n",
      "  raw_prediction = X @ weights + intercept\n",
      "/Users/lexai/Library/Python/3.9/lib/python/site-packages/sklearn/linear_model/_linear_loss.py:200: RuntimeWarning: invalid value encountered in matmul\n",
      "  raw_prediction = X @ weights + intercept\n",
      "/Users/lexai/Library/Python/3.9/lib/python/site-packages/sklearn/linear_model/_linear_loss.py:330: RuntimeWarning: divide by zero encountered in matmul\n",
      "  grad[:n_features] = X.T @ grad_pointwise + l2_reg_strength * weights\n",
      "/Users/lexai/Library/Python/3.9/lib/python/site-packages/sklearn/linear_model/_linear_loss.py:330: RuntimeWarning: overflow encountered in matmul\n",
      "  grad[:n_features] = X.T @ grad_pointwise + l2_reg_strength * weights\n",
      "/Users/lexai/Library/Python/3.9/lib/python/site-packages/sklearn/linear_model/_linear_loss.py:330: RuntimeWarning: invalid value encountered in matmul\n",
      "  grad[:n_features] = X.T @ grad_pointwise + l2_reg_strength * weights\n",
      "/Users/lexai/Library/Python/3.9/lib/python/site-packages/sklearn/utils/extmath.py:203: RuntimeWarning: divide by zero encountered in matmul\n",
      "  ret = a @ b\n",
      "/Users/lexai/Library/Python/3.9/lib/python/site-packages/sklearn/utils/extmath.py:203: RuntimeWarning: overflow encountered in matmul\n",
      "  ret = a @ b\n",
      "/Users/lexai/Library/Python/3.9/lib/python/site-packages/sklearn/utils/extmath.py:203: RuntimeWarning: invalid value encountered in matmul\n",
      "  ret = a @ b\n",
      "/Users/lexai/Library/Python/3.9/lib/python/site-packages/sklearn/utils/extmath.py:203: RuntimeWarning: divide by zero encountered in matmul\n",
      "  ret = a @ b\n",
      "/Users/lexai/Library/Python/3.9/lib/python/site-packages/sklearn/utils/extmath.py:203: RuntimeWarning: overflow encountered in matmul\n",
      "  ret = a @ b\n",
      "/Users/lexai/Library/Python/3.9/lib/python/site-packages/sklearn/utils/extmath.py:203: RuntimeWarning: invalid value encountered in matmul\n",
      "  ret = a @ b\n"
     ]
    }
   ],
   "source": [
    "# Generate synthetic data\n",
    "X, y = make_classification(n_samples=1000, n_features=20, n_informative=15, \n",
    "                          n_redundant=5, random_state=42, n_classes=2)\n",
    "\n",
    "# Split the data\n",
    "X_train, X_test, y_train, y_test = train_test_split(X, y, test_size=0.2, random_state=42)\n",
    "\n",
    "# Scale the features\n",
    "scaler = StandardScaler()\n",
    "X_train_scaled = scaler.fit_transform(X_train)\n",
    "X_test_scaled = scaler.transform(X_test)\n",
    "\n",
    "# Create and train the model\n",
    "log_reg = LogisticRegression(random_state=42)\n",
    "log_reg.fit(X_train_scaled, y_train) # training \n",
    "\n",
    "# Make predictions\n",
    "y_pred = log_reg.predict(X_test_scaled)\n",
    "y_pred_proba = log_reg.predict_proba(X_test_scaled)[:, 1]\n",
    "\n",
    "# Evaluate the model\n",
    "print(\"Accuracy:\", accuracy_score(y_test, y_pred))\n",
    "print(\"\\nClassification Report:\")\n",
    "print(classification_report(y_test, y_pred))"
   ]
  },
  {
   "cell_type": "code",
   "execution_count": 46,
   "metadata": {},
   "outputs": [
    {
     "name": "stderr",
     "output_type": "stream",
     "text": [
      "/Users/lexai/Library/Python/3.9/lib/python/site-packages/sklearn/utils/extmath.py:203: RuntimeWarning: divide by zero encountered in matmul\n",
      "  ret = a @ b\n",
      "/Users/lexai/Library/Python/3.9/lib/python/site-packages/sklearn/utils/extmath.py:203: RuntimeWarning: overflow encountered in matmul\n",
      "  ret = a @ b\n",
      "/Users/lexai/Library/Python/3.9/lib/python/site-packages/sklearn/utils/extmath.py:203: RuntimeWarning: invalid value encountered in matmul\n",
      "  ret = a @ b\n"
     ]
    }
   ],
   "source": [
    "y_i_hat = log_reg.predict(X_test_scaled)\n",
    "y_i_hat.shape\n",
    "accuracy_ = np.mean(y_i_hat == y_test)"
   ]
  },
  {
   "cell_type": "code",
   "execution_count": 37,
   "metadata": {},
   "outputs": [
    {
     "name": "stderr",
     "output_type": "stream",
     "text": [
      "/Users/lexai/Library/Python/3.9/lib/python/site-packages/sklearn/utils/extmath.py:203: RuntimeWarning: divide by zero encountered in matmul\n",
      "  ret = a @ b\n",
      "/Users/lexai/Library/Python/3.9/lib/python/site-packages/sklearn/utils/extmath.py:203: RuntimeWarning: overflow encountered in matmul\n",
      "  ret = a @ b\n",
      "/Users/lexai/Library/Python/3.9/lib/python/site-packages/sklearn/utils/extmath.py:203: RuntimeWarning: invalid value encountered in matmul\n",
      "  ret = a @ b\n"
     ]
    },
    {
     "data": {
      "text/plain": [
       "array([ True, False,  True,  True, False, False,  True,  True, False,\n",
       "        True, False,  True, False, False, False, False,  True, False,\n",
       "       False, False, False,  True, False, False,  True,  True, False,\n",
       "       False,  True,  True, False, False, False,  True,  True, False,\n",
       "        True, False,  True, False,  True,  True,  True, False,  True,\n",
       "        True,  True,  True,  True,  True,  True,  True, False, False,\n",
       "        True, False,  True, False,  True,  True,  True,  True,  True,\n",
       "        True,  True, False, False, False, False, False, False,  True,\n",
       "       False,  True,  True,  True,  True,  True, False,  True, False,\n",
       "        True,  True,  True,  True,  True, False,  True, False,  True,\n",
       "        True,  True,  True, False, False,  True, False,  True, False,\n",
       "       False, False,  True,  True, False, False, False, False, False,\n",
       "       False,  True, False, False, False,  True, False, False, False,\n",
       "        True, False,  True, False, False,  True,  True, False, False,\n",
       "       False, False, False, False,  True, False,  True, False,  True,\n",
       "        True, False,  True,  True,  True, False, False,  True,  True,\n",
       "       False, False,  True,  True,  True, False, False,  True, False,\n",
       "        True,  True, False, False,  True,  True, False, False,  True,\n",
       "        True,  True, False,  True,  True, False, False, False, False,\n",
       "        True,  True,  True,  True,  True,  True, False,  True,  True,\n",
       "        True,  True,  True,  True, False,  True, False, False,  True,\n",
       "        True, False,  True,  True,  True, False,  True,  True, False,\n",
       "        True, False])"
      ]
     },
     "execution_count": 37,
     "metadata": {},
     "output_type": "execute_result"
    }
   ],
   "source": [
    "log_reg.predict_proba(X_test_scaled)[:,1] < 0.5"
   ]
  },
  {
   "cell_type": "code",
   "execution_count": 55,
   "metadata": {},
   "outputs": [
    {
     "name": "stderr",
     "output_type": "stream",
     "text": [
      "/Users/lexai/Library/Python/3.9/lib/python/site-packages/sklearn/utils/extmath.py:203: RuntimeWarning: divide by zero encountered in matmul\n",
      "  ret = a @ b\n",
      "/Users/lexai/Library/Python/3.9/lib/python/site-packages/sklearn/utils/extmath.py:203: RuntimeWarning: overflow encountered in matmul\n",
      "  ret = a @ b\n",
      "/Users/lexai/Library/Python/3.9/lib/python/site-packages/sklearn/utils/extmath.py:203: RuntimeWarning: invalid value encountered in matmul\n",
      "  ret = a @ b\n"
     ]
    },
    {
     "data": {
      "text/plain": [
       "array([0.02188057, 0.96195589, 0.33908386, 0.10921486, 0.98739267,\n",
       "       0.84308108, 0.48653603, 0.06994292, 0.88033785, 0.49255056,\n",
       "       0.88438018, 0.10787653, 0.97278159, 0.95050124, 0.87522674,\n",
       "       0.97405967, 0.07933878, 0.98727993, 0.51625486, 0.97590483,\n",
       "       0.84799688, 0.24316724, 0.79377002, 0.94266955, 0.474284  ,\n",
       "       0.13998063, 0.64806456, 0.57703321, 0.01813041, 0.32678447,\n",
       "       0.99789584, 0.95363163, 0.96889739, 0.04958111, 0.03622317,\n",
       "       0.64109665, 0.07028913, 0.69622876, 0.01950465, 0.82104683,\n",
       "       0.34216885, 0.29907916, 0.02424673, 0.85596107, 0.07184731,\n",
       "       0.43300278, 0.30238418, 0.18023008, 0.29985309, 0.37202183,\n",
       "       0.03321096, 0.01180251, 0.92617376, 0.93839296, 0.1936242 ,\n",
       "       0.74306832, 0.14128304, 0.8367627 , 0.0203016 , 0.43074066,\n",
       "       0.07634604, 0.1936713 , 0.16584018, 0.06163727, 0.09072574,\n",
       "       0.99438573, 0.87175378, 0.96105028, 0.6697794 , 0.73962965,\n",
       "       0.96644629, 0.40712187, 0.72717738, 0.13539361, 0.10302574,\n",
       "       0.06665814, 0.21395801, 0.15108374, 0.86284511, 0.06330247,\n",
       "       0.51637492, 0.01439362, 0.10987596, 0.02264711, 0.46562421,\n",
       "       0.46764228, 0.90174154, 0.01215855, 0.99078524, 0.03371605,\n",
       "       0.07284073, 0.37263832, 0.39823547, 0.64303479, 0.70773212,\n",
       "       0.0503095 , 0.90429131, 0.09084013, 0.58112602, 0.93652415,\n",
       "       0.52337746, 0.13689947, 0.48126965, 0.99396964, 0.64278122,\n",
       "       0.94916556, 0.99437184, 0.68793552, 0.96089672, 0.32471239,\n",
       "       0.98274854, 0.75035786, 0.98048508, 0.10231895, 0.97422656,\n",
       "       0.99117308, 0.95834755, 0.44034599, 0.59824534, 0.27930835,\n",
       "       0.6896101 , 0.87804463, 0.26449869, 0.07046575, 0.68794693,\n",
       "       0.77709729, 0.95501468, 0.92312276, 0.9767045 , 0.67024468,\n",
       "       0.37021598, 0.80516644, 0.02052194, 0.82398686, 0.02129222,\n",
       "       0.02324647, 0.98401635, 0.43762912, 0.00380991, 0.03392544,\n",
       "       0.80964809, 0.95965609, 0.00544117, 0.13340761, 0.96215163,\n",
       "       0.69470917, 0.27733842, 0.11893215, 0.06687528, 0.80253319,\n",
       "       0.8410845 , 0.13955642, 0.73231341, 0.00583646, 0.02432223,\n",
       "       0.99239768, 0.6623506 , 0.13461798, 0.00849823, 0.98970101,\n",
       "       0.56868497, 0.38601209, 0.18740018, 0.40735806, 0.94286971,\n",
       "       0.34728218, 0.10748329, 0.7542772 , 0.55677757, 0.82284085,\n",
       "       0.98043149, 0.05599282, 0.290925  , 0.05152714, 0.47401806,\n",
       "       0.00679784, 0.28838821, 0.86149025, 0.05063387, 0.34379812,\n",
       "       0.16732536, 0.01830302, 0.16332662, 0.2953575 , 0.61062626,\n",
       "       0.31406449, 0.60388177, 0.70292466, 0.05899021, 0.04529749,\n",
       "       0.89636249, 0.14775075, 0.03871297, 0.22829512, 0.75527237,\n",
       "       0.01577274, 0.39995985, 0.87790217, 0.05206034, 0.85866632])"
      ]
     },
     "execution_count": 55,
     "metadata": {},
     "output_type": "execute_result"
    }
   ],
   "source": [
    "log_reg.predict_proba(X_test_scaled)[:,1]"
   ]
  },
  {
   "cell_type": "code",
   "execution_count": 9,
   "metadata": {},
   "outputs": [
    {
     "data": {
      "image/png": "[encoded data removed]",
      "text/plain": [
       "<Figure size 800x600 with 2 Axes>"
      ]
     },
     "metadata": {},
     "output_type": "display_data"
    }
   ],
   "source": [
    "# Visualize the confusion matrix\n",
    "plt.figure(figsize=(8, 6))\n",
    "cm = confusion_matrix(y_test, y_pred)\n",
    "sns.heatmap(cm, annot=True, fmt='d', cmap='Blues')\n",
    "plt.title('Confusion Matrix')\n",
    "plt.ylabel('Actual')\n",
    "plt.xlabel('Predicted')\n",
    "plt.show()\n",
    "\n",
    "# ROC Curve\n",
    "#from sklearn.metrics import roc_curve, auc\n",
    "\n",
    "#fpr, tpr, thresholds = roc_curve(y_test, y_pred_proba)\n",
    "#roc_auc = auc(fpr, tpr)\n",
    "\n",
    "#plt.figure(figsize=(8, 6))\n",
    "#plt.plot(fpr, tpr, color='darkorange', lw=2, label=f'ROC curve (AUC = {roc_auc:.2f})')\n",
    "#plt.plot([0, 1], [0, 1], color='navy', lw=2, linestyle='--')\n",
    "#plt.xlim([0.0, 1.0])\n",
    "#plt.ylim([0.0, 1.05])\n",
    "#plt.xlabel('False Positive Rate')\n",
    "#plt.ylabel('True Positive Rate')\n",
    "#plt.title('Receiver Operating Characteristic (ROC) Curve')\n",
    "#plt.legend(loc=\"lower right\")\n",
    "#plt.show()"
   ]
  },
  {
   "cell_type": "markdown",
   "metadata": {},
   "source": [
    "## 3. Logistic Regression from Scratch\n",
    "\n",
    "Now let's implement logistic regression from scratch to better understand how it works."
   ]
  },
  {
   "cell_type": "code",
   "execution_count": 86,
   "metadata": {},
   "outputs": [
    {
     "name": "stdout",
     "output_type": "stream",
     "text": [
      "Accuracy (from scratch): 0.825\n",
      "Accuracy (sklearn): 0.825\n"
     ]
    }
   ],
   "source": [
    "class LogisticRegressionScratch:\n",
    "    def __init__(self, learning_rate=0.01, n_iterations=1000):\n",
    "        self.learning_rate = learning_rate\n",
    "        self.n_iterations = n_iterations\n",
    "        self.weights = None\n",
    "        self.bias = None\n",
    "        self.losses = []\n",
    "        \n",
    "    def _sigmoid(self, z):\n",
    "        \"\"\"Sigmoid activation function\"\"\"\n",
    "        return 1 / (1 + np.exp(-z))\n",
    "    \n",
    "    def _compute_loss(self, y_true, y_pred):\n",
    "        \"\"\"Compute binary cross-entropy loss\"\"\"\n",
    "        # Clip predictions to avoid log(0)\n",
    "        epsilon = 1e-15 # 0.000000000000001\n",
    "        y_pred = np.clip(y_pred, epsilon, 1 - epsilon)\n",
    "        \n",
    "        # Binary cross-entropy\n",
    "        loss = -np.mean(y_true * np.log(y_pred) + (1 - y_true) * np.log(1 - y_pred))\n",
    "        return loss\n",
    "    \n",
    "    def fit(self, X, y):\n",
    "        \"\"\"Train the logistic regression model\"\"\"\n",
    "        n_samples, n_features = X.shape\n",
    "        \n",
    "        # Initialize parameters\n",
    "        self.weights = np.zeros(n_features)\n",
    "        self.bias = 0\n",
    "        \n",
    "        # Gradient descent\n",
    "        for i in range(self.n_iterations):\n",
    "            # Linear model\n",
    "            linear_pred = np.dot(X, self.weights) + self.bias\n",
    "            \n",
    "            # Apply sigmoid\n",
    "            y_pred = self._sigmoid(linear_pred)\n",
    "            \n",
    "            # Compute gradients\n",
    "            dw = (1 / n_samples) * np.dot(X.T, (y_pred - y)) # m\n",
    "            db = (1 / n_samples) * np.sum(y_pred - y) # c\n",
    "\n",
    "            \n",
    "            # Update parameters\n",
    "            self.weights -= self.learning_rate * dw\n",
    "            self.bias -= self.learning_rate * db\n",
    "            \n",
    "            # Compute and store loss\n",
    "            if i % 100 == 0:\n",
    "                loss = self._compute_loss(y, y_pred)\n",
    "                self.losses.append(loss)\n",
    "    \n",
    "    def predict_proba(self, X):\n",
    "        \"\"\"Predict probabilities\"\"\"\n",
    "        linear_pred = np.dot(X, self.weights) + self.bias # mx+b or mx + c and then sigmoid of (mx+c)\n",
    "        return self._sigmoid(linear_pred)\n",
    "    \n",
    "    def predict(self, X, threshold=0.5):\n",
    "        \"\"\"Predict class labels\"\"\"\n",
    "        y_pred_proba = self.predict_proba(X)\n",
    "        return (y_pred_proba >= threshold).astype(int)  \n",
    "\n",
    "# Train our custom implementation\n",
    "log_reg_scratch = LogisticRegressionScratch(learning_rate=0.001, n_iterations=200000)\n",
    "log_reg_scratch.fit(X_train_scaled, y_train)\n",
    "\n",
    "# Make predictions\n",
    "y_pred_scratch = log_reg_scratch.predict(X_test_scaled)\n",
    "\n",
    "# Evaluate\n",
    "print(\"Accuracy (from scratch):\", accuracy_score(y_test, y_pred_scratch))\n",
    "print(\"Accuracy (sklearn):\", accuracy_score(y_test, y_pred))"
   ]
  },
  {
   "cell_type": "code",
   "execution_count": 87,
   "metadata": {},
   "outputs": [
    {
     "data": {
      "image/png": "[encoded data removed]",
      "text/plain": [
       "<Figure size 640x480 with 1 Axes>"
      ]
     },
     "metadata": {},
     "output_type": "display_data"
    }
   ],
   "source": [
    "# Plot the loss curve\n",
    "# plt.figure(figsize=(10, 6))\n",
    "plt.plot(range(0, log_reg_scratch.n_iterations, 100), log_reg_scratch.losses)\n",
    "plt.show()"
   ]
  },
  {
   "cell_type": "code",
   "execution_count": 88,
   "metadata": {},
   "outputs": [
    {
     "data": {
      "image/png": "[encoded data removed]",
      "text/plain": [
       "<Figure size 1200x600 with 2 Axes>"
      ]
     },
     "metadata": {},
     "output_type": "display_data"
    }
   ],
   "source": [
    "\n",
    "\n",
    "# Compare coefficients\n",
    "plt.figure(figsize=(12, 6))\n",
    "plt.subplot(1, 2, 1)\n",
    "plt.bar(range(len(log_reg.coef_[0])), log_reg.coef_[0])\n",
    "plt.title('Sklearn Coefficients')\n",
    "plt.xlabel('Feature Index')\n",
    "plt.ylabel('Coefficient Value')\n",
    "\n",
    "plt.subplot(1, 2, 2)\n",
    "plt.bar(range(len(log_reg_scratch.weights)), log_reg_scratch.weights)\n",
    "plt.title('From Scratch Coefficients')\n",
    "plt.xlabel('Feature Index')\n",
    "plt.ylabel('Coefficient Value')\n",
    "\n",
    "plt.tight_layout()\n",
    "plt.show()"
   ]
  },
  {
   "cell_type": "code",
   "execution_count": null,
   "metadata": {},
   "outputs": [],
   "source": []
  },
  {
   "cell_type": "code",
   "execution_count": null,
   "metadata": {},
   "outputs": [],
   "source": []
  },
  {
   "cell_type": "code",
   "execution_count": null,
   "metadata": {},
   "outputs": [],
   "source": []
  }
 ],
 "metadata": {
  "kernelspec": {
   "display_name": "Python 3 (ipykernel)",
   "language": "python",
   "name": "python3"
  },
  "language_info": {
   "codemirror_mode": {
    "name": "ipython",
    "version": 3
   },
   "file_extension": ".py",
   "mimetype": "text/x-python",
   "name": "python",
   "nbconvert_exporter": "python",
   "pygments_lexer": "ipython3",
   "version": "3.9.6"
  }
 },
 "nbformat": 4,
 "nbformat_minor": 4
}
